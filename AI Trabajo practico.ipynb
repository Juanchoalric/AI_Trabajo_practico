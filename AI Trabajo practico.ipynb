{
 "cells": [
  {
   "cell_type": "code",
   "execution_count": 54,
   "metadata": {},
   "outputs": [],
   "source": [
    "import pandas as pd\n",
    "import numpy as np\n",
    "import matplotlib.pyplot as plt\n",
    "import seaborn as sns\n",
    "sns.set()"
   ]
  },
  {
   "cell_type": "markdown",
   "metadata": {},
   "source": [
    "Leemos el dataset"
   ]
  },
  {
   "cell_type": "code",
   "execution_count": 55,
   "metadata": {},
   "outputs": [],
   "source": [
    "df = pd.read_csv('Churners.csv')"
   ]
  },
  {
   "cell_type": "markdown",
   "metadata": {},
   "source": [
    "Me genere un sample del todo el dataset y le agrege una seed para que siempre tenga los mismos datos no importa cuantas veces corra esta celda"
   ]
  },
  {
   "cell_type": "code",
   "execution_count": 56,
   "metadata": {
    "scrolled": true
   },
   "outputs": [
    {
     "data": {
      "text/html": [
       "<div>\n",
       "<style scoped>\n",
       "    .dataframe tbody tr th:only-of-type {\n",
       "        vertical-align: middle;\n",
       "    }\n",
       "\n",
       "    .dataframe tbody tr th {\n",
       "        vertical-align: top;\n",
       "    }\n",
       "\n",
       "    .dataframe thead th {\n",
       "        text-align: right;\n",
       "    }\n",
       "</style>\n",
       "<table border=\"1\" class=\"dataframe\">\n",
       "  <thead>\n",
       "    <tr style=\"text-align: right;\">\n",
       "      <th></th>\n",
       "      <th>id</th>\n",
       "      <th>Nombre</th>\n",
       "      <th>Email</th>\n",
       "      <th>Pais</th>\n",
       "      <th>Genero</th>\n",
       "      <th>Edad</th>\n",
       "      <th>Antigüedad</th>\n",
       "      <th>FacturacionTotal</th>\n",
       "      <th>PuntuacionCrediticia</th>\n",
       "      <th>CantidadProductos</th>\n",
       "      <th>PoseeTarjetaCredito</th>\n",
       "      <th>MiembroActivo</th>\n",
       "      <th>SalarioEstimado</th>\n",
       "      <th>VelocidadServicio</th>\n",
       "      <th>Abandono</th>\n",
       "    </tr>\n",
       "  </thead>\n",
       "  <tbody>\n",
       "    <tr>\n",
       "      <th>7940</th>\n",
       "      <td>15688713</td>\n",
       "      <td>Estefanía Méndez Casas</td>\n",
       "      <td>burgosgaston@yahoo.com</td>\n",
       "      <td>Chile</td>\n",
       "      <td>Masculino</td>\n",
       "      <td>44</td>\n",
       "      <td>6</td>\n",
       "      <td>0.00</td>\n",
       "      <td>627</td>\n",
       "      <td>1</td>\n",
       "      <td>Si</td>\n",
       "      <td>Si</td>\n",
       "      <td>114469.55</td>\n",
       "      <td>20GB</td>\n",
       "      <td>No</td>\n",
       "    </tr>\n",
       "    <tr>\n",
       "      <th>1162</th>\n",
       "      <td>15708917</td>\n",
       "      <td>Eutropio del Porta</td>\n",
       "      <td>oscarferrer@gmail.com</td>\n",
       "      <td>Brasil</td>\n",
       "      <td>Masculino</td>\n",
       "      <td>53</td>\n",
       "      <td>10</td>\n",
       "      <td>167772.96</td>\n",
       "      <td>598</td>\n",
       "      <td>1</td>\n",
       "      <td>Si</td>\n",
       "      <td>Si</td>\n",
       "      <td>136886.86</td>\n",
       "      <td>2GB</td>\n",
       "      <td>No</td>\n",
       "    </tr>\n",
       "    <tr>\n",
       "      <th>582</th>\n",
       "      <td>15718280</td>\n",
       "      <td>Soraya Gárate Lobo</td>\n",
       "      <td>vtoledo@cepeda.es</td>\n",
       "      <td>Brasil</td>\n",
       "      <td>Masculino</td>\n",
       "      <td>39</td>\n",
       "      <td>5</td>\n",
       "      <td>139822.11</td>\n",
       "      <td>662</td>\n",
       "      <td>2</td>\n",
       "      <td>Si</td>\n",
       "      <td>Si</td>\n",
       "      <td>146219.90</td>\n",
       "      <td>100GB</td>\n",
       "      <td>No</td>\n",
       "    </tr>\n",
       "    <tr>\n",
       "      <th>4081</th>\n",
       "      <td>15712813</td>\n",
       "      <td>Lorenza de Royo</td>\n",
       "      <td>alonso90@zaragoza-molina.es</td>\n",
       "      <td>Brasil</td>\n",
       "      <td>Masculino</td>\n",
       "      <td>43</td>\n",
       "      <td>3</td>\n",
       "      <td>150805.17</td>\n",
       "      <td>520</td>\n",
       "      <td>3</td>\n",
       "      <td>No</td>\n",
       "      <td>Si</td>\n",
       "      <td>25333.03</td>\n",
       "      <td>500Mb</td>\n",
       "      <td>Si</td>\n",
       "    </tr>\n",
       "    <tr>\n",
       "      <th>8412</th>\n",
       "      <td>15608968</td>\n",
       "      <td>Ciriaco Escudero Esteban</td>\n",
       "      <td>jacinta93@domingo-palomares.es</td>\n",
       "      <td>Brasil</td>\n",
       "      <td>Masculino</td>\n",
       "      <td>21</td>\n",
       "      <td>6</td>\n",
       "      <td>86402.52</td>\n",
       "      <td>714</td>\n",
       "      <td>2</td>\n",
       "      <td>No</td>\n",
       "      <td>No</td>\n",
       "      <td>27330.59</td>\n",
       "      <td>1GB</td>\n",
       "      <td>No</td>\n",
       "    </tr>\n",
       "    <tr>\n",
       "      <th>...</th>\n",
       "      <td>...</td>\n",
       "      <td>...</td>\n",
       "      <td>...</td>\n",
       "      <td>...</td>\n",
       "      <td>...</td>\n",
       "      <td>...</td>\n",
       "      <td>...</td>\n",
       "      <td>...</td>\n",
       "      <td>...</td>\n",
       "      <td>...</td>\n",
       "      <td>...</td>\n",
       "      <td>...</td>\n",
       "      <td>...</td>\n",
       "      <td>...</td>\n",
       "      <td>...</td>\n",
       "    </tr>\n",
       "    <tr>\n",
       "      <th>5734</th>\n",
       "      <td>15781914</td>\n",
       "      <td>Tomasa Hoyos</td>\n",
       "      <td>nbaena@trujillo.es</td>\n",
       "      <td>Brasil</td>\n",
       "      <td>Masculino</td>\n",
       "      <td>32</td>\n",
       "      <td>9</td>\n",
       "      <td>169947.41</td>\n",
       "      <td>718</td>\n",
       "      <td>2</td>\n",
       "      <td>Si</td>\n",
       "      <td>Si</td>\n",
       "      <td>27979.16</td>\n",
       "      <td>500Mb</td>\n",
       "      <td>Si</td>\n",
       "    </tr>\n",
       "    <tr>\n",
       "      <th>5191</th>\n",
       "      <td>15779904</td>\n",
       "      <td>Pastor Galván Vázquez</td>\n",
       "      <td>cayetana28@mate.es</td>\n",
       "      <td>Argentina</td>\n",
       "      <td>Femenino</td>\n",
       "      <td>29</td>\n",
       "      <td>5</td>\n",
       "      <td>0.00</td>\n",
       "      <td>597</td>\n",
       "      <td>2</td>\n",
       "      <td>Si</td>\n",
       "      <td>Si</td>\n",
       "      <td>174825.57</td>\n",
       "      <td>1GB</td>\n",
       "      <td>No</td>\n",
       "    </tr>\n",
       "    <tr>\n",
       "      <th>5390</th>\n",
       "      <td>15786993</td>\n",
       "      <td>Loreto Herminio Diez Llanos</td>\n",
       "      <td>vperez@zaragoza.com</td>\n",
       "      <td>Argentina</td>\n",
       "      <td>Femenino</td>\n",
       "      <td>51</td>\n",
       "      <td>5</td>\n",
       "      <td>0.00</td>\n",
       "      <td>810</td>\n",
       "      <td>2</td>\n",
       "      <td>No</td>\n",
       "      <td>Si</td>\n",
       "      <td>184524.74</td>\n",
       "      <td>500Mb</td>\n",
       "      <td>Si</td>\n",
       "    </tr>\n",
       "    <tr>\n",
       "      <th>860</th>\n",
       "      <td>15675231</td>\n",
       "      <td>Donato del Gordillo</td>\n",
       "      <td>pagesquique@arevalo-diaz.com</td>\n",
       "      <td>Argentina</td>\n",
       "      <td>Femenino</td>\n",
       "      <td>45</td>\n",
       "      <td>8</td>\n",
       "      <td>0.00</td>\n",
       "      <td>518</td>\n",
       "      <td>2</td>\n",
       "      <td>Si</td>\n",
       "      <td>Si</td>\n",
       "      <td>36193.07</td>\n",
       "      <td>100GB</td>\n",
       "      <td>No</td>\n",
       "    </tr>\n",
       "    <tr>\n",
       "      <th>7270</th>\n",
       "      <td>15732113</td>\n",
       "      <td>Rómulo Villanueva Leal</td>\n",
       "      <td>artemioarnaiz@agustin-romeu.es</td>\n",
       "      <td>Chile</td>\n",
       "      <td>Masculino</td>\n",
       "      <td>50</td>\n",
       "      <td>8</td>\n",
       "      <td>0.00</td>\n",
       "      <td>671</td>\n",
       "      <td>1</td>\n",
       "      <td>No</td>\n",
       "      <td>Si</td>\n",
       "      <td>2560.11</td>\n",
       "      <td>100GB</td>\n",
       "      <td>No</td>\n",
       "    </tr>\n",
       "  </tbody>\n",
       "</table>\n",
       "<p>9000 rows × 15 columns</p>\n",
       "</div>"
      ],
      "text/plain": [
       "            id                       Nombre                           Email  \\\n",
       "7940  15688713       Estefanía Méndez Casas          burgosgaston@yahoo.com   \n",
       "1162  15708917           Eutropio del Porta           oscarferrer@gmail.com   \n",
       "582   15718280           Soraya Gárate Lobo               vtoledo@cepeda.es   \n",
       "4081  15712813              Lorenza de Royo     alonso90@zaragoza-molina.es   \n",
       "8412  15608968     Ciriaco Escudero Esteban  jacinta93@domingo-palomares.es   \n",
       "...        ...                          ...                             ...   \n",
       "5734  15781914                 Tomasa Hoyos              nbaena@trujillo.es   \n",
       "5191  15779904        Pastor Galván Vázquez              cayetana28@mate.es   \n",
       "5390  15786993  Loreto Herminio Diez Llanos             vperez@zaragoza.com   \n",
       "860   15675231          Donato del Gordillo    pagesquique@arevalo-diaz.com   \n",
       "7270  15732113       Rómulo Villanueva Leal  artemioarnaiz@agustin-romeu.es   \n",
       "\n",
       "           Pais     Genero  Edad  Antigüedad  FacturacionTotal  \\\n",
       "7940      Chile  Masculino    44           6              0.00   \n",
       "1162     Brasil  Masculino    53          10         167772.96   \n",
       "582      Brasil  Masculino    39           5         139822.11   \n",
       "4081     Brasil  Masculino    43           3         150805.17   \n",
       "8412     Brasil  Masculino    21           6          86402.52   \n",
       "...         ...        ...   ...         ...               ...   \n",
       "5734     Brasil  Masculino    32           9         169947.41   \n",
       "5191  Argentina   Femenino    29           5              0.00   \n",
       "5390  Argentina   Femenino    51           5              0.00   \n",
       "860   Argentina   Femenino    45           8              0.00   \n",
       "7270      Chile  Masculino    50           8              0.00   \n",
       "\n",
       "      PuntuacionCrediticia  CantidadProductos PoseeTarjetaCredito  \\\n",
       "7940                   627                  1                  Si   \n",
       "1162                   598                  1                  Si   \n",
       "582                    662                  2                  Si   \n",
       "4081                   520                  3                  No   \n",
       "8412                   714                  2                  No   \n",
       "...                    ...                ...                 ...   \n",
       "5734                   718                  2                  Si   \n",
       "5191                   597                  2                  Si   \n",
       "5390                   810                  2                  No   \n",
       "860                    518                  2                  Si   \n",
       "7270                   671                  1                  No   \n",
       "\n",
       "     MiembroActivo  SalarioEstimado VelocidadServicio Abandono  \n",
       "7940            Si        114469.55              20GB       No  \n",
       "1162            Si        136886.86               2GB       No  \n",
       "582             Si        146219.90             100GB       No  \n",
       "4081            Si         25333.03             500Mb       Si  \n",
       "8412            No         27330.59               1GB       No  \n",
       "...            ...              ...               ...      ...  \n",
       "5734            Si         27979.16             500Mb       Si  \n",
       "5191            Si        174825.57               1GB       No  \n",
       "5390            Si        184524.74             500Mb       Si  \n",
       "860             Si         36193.07             100GB       No  \n",
       "7270            Si          2560.11             100GB       No  \n",
       "\n",
       "[9000 rows x 15 columns]"
      ]
     },
     "execution_count": 56,
     "metadata": {},
     "output_type": "execute_result"
    }
   ],
   "source": [
    "df.sample(frac=1, random_state=42)"
   ]
  },
  {
   "cell_type": "code",
   "execution_count": 57,
   "metadata": {
    "scrolled": true
   },
   "outputs": [
    {
     "data": {
      "text/html": [
       "<div>\n",
       "<style scoped>\n",
       "    .dataframe tbody tr th:only-of-type {\n",
       "        vertical-align: middle;\n",
       "    }\n",
       "\n",
       "    .dataframe tbody tr th {\n",
       "        vertical-align: top;\n",
       "    }\n",
       "\n",
       "    .dataframe thead th {\n",
       "        text-align: right;\n",
       "    }\n",
       "</style>\n",
       "<table border=\"1\" class=\"dataframe\">\n",
       "  <thead>\n",
       "    <tr style=\"text-align: right;\">\n",
       "      <th></th>\n",
       "      <th>id</th>\n",
       "      <th>Nombre</th>\n",
       "      <th>Email</th>\n",
       "      <th>Pais</th>\n",
       "      <th>Genero</th>\n",
       "      <th>Edad</th>\n",
       "      <th>Antigüedad</th>\n",
       "      <th>FacturacionTotal</th>\n",
       "      <th>PuntuacionCrediticia</th>\n",
       "      <th>CantidadProductos</th>\n",
       "      <th>PoseeTarjetaCredito</th>\n",
       "      <th>MiembroActivo</th>\n",
       "      <th>SalarioEstimado</th>\n",
       "      <th>VelocidadServicio</th>\n",
       "      <th>Abandono</th>\n",
       "    </tr>\n",
       "  </thead>\n",
       "  <tbody>\n",
       "    <tr>\n",
       "      <th>0</th>\n",
       "      <td>15638513</td>\n",
       "      <td>Estrella de Alvarado</td>\n",
       "      <td>roxanafuster@rodenas.org</td>\n",
       "      <td>Argentina</td>\n",
       "      <td>Femenino</td>\n",
       "      <td>40</td>\n",
       "      <td>7</td>\n",
       "      <td>142856.95</td>\n",
       "      <td>723</td>\n",
       "      <td>2</td>\n",
       "      <td>No</td>\n",
       "      <td>No</td>\n",
       "      <td>38019.74</td>\n",
       "      <td>500Mb</td>\n",
       "      <td>Si</td>\n",
       "    </tr>\n",
       "    <tr>\n",
       "      <th>1</th>\n",
       "      <td>15805303</td>\n",
       "      <td>Dora Nieves Lerma Zurita</td>\n",
       "      <td>maximino90@gmail.com</td>\n",
       "      <td>Brasil</td>\n",
       "      <td>Masculino</td>\n",
       "      <td>44</td>\n",
       "      <td>1</td>\n",
       "      <td>141136.62</td>\n",
       "      <td>661</td>\n",
       "      <td>1</td>\n",
       "      <td>Si</td>\n",
       "      <td>No</td>\n",
       "      <td>189742.78</td>\n",
       "      <td>500Mb</td>\n",
       "      <td>Si</td>\n",
       "    </tr>\n",
       "    <tr>\n",
       "      <th>2</th>\n",
       "      <td>15685844</td>\n",
       "      <td>Adelina Contreras Cervera</td>\n",
       "      <td>somozaeufemia@revilla.es</td>\n",
       "      <td>Brasil</td>\n",
       "      <td>Femenino</td>\n",
       "      <td>35</td>\n",
       "      <td>8</td>\n",
       "      <td>141665.63</td>\n",
       "      <td>518</td>\n",
       "      <td>1</td>\n",
       "      <td>No</td>\n",
       "      <td>Si</td>\n",
       "      <td>192776.64</td>\n",
       "      <td>1GB</td>\n",
       "      <td>No</td>\n",
       "    </tr>\n",
       "    <tr>\n",
       "      <th>3</th>\n",
       "      <td>15658693</td>\n",
       "      <td>Ale del Portero</td>\n",
       "      <td>gisela65@amores.es</td>\n",
       "      <td>Argentina</td>\n",
       "      <td>Femenino</td>\n",
       "      <td>60</td>\n",
       "      <td>2</td>\n",
       "      <td>0.00</td>\n",
       "      <td>827</td>\n",
       "      <td>2</td>\n",
       "      <td>No</td>\n",
       "      <td>Si</td>\n",
       "      <td>60615.83</td>\n",
       "      <td>1GB</td>\n",
       "      <td>No</td>\n",
       "    </tr>\n",
       "    <tr>\n",
       "      <th>4</th>\n",
       "      <td>15676091</td>\n",
       "      <td>Salvador Ángel Gimeno</td>\n",
       "      <td>maximino64@navarrete-gonzalo.com</td>\n",
       "      <td>Argentina</td>\n",
       "      <td>Masculino</td>\n",
       "      <td>42</td>\n",
       "      <td>7</td>\n",
       "      <td>0.00</td>\n",
       "      <td>543</td>\n",
       "      <td>1</td>\n",
       "      <td>Si</td>\n",
       "      <td>Si</td>\n",
       "      <td>56650.47</td>\n",
       "      <td>500Mb</td>\n",
       "      <td>Si</td>\n",
       "    </tr>\n",
       "  </tbody>\n",
       "</table>\n",
       "</div>"
      ],
      "text/plain": [
       "         id                     Nombre                             Email  \\\n",
       "0  15638513       Estrella de Alvarado          roxanafuster@rodenas.org   \n",
       "1  15805303   Dora Nieves Lerma Zurita              maximino90@gmail.com   \n",
       "2  15685844  Adelina Contreras Cervera          somozaeufemia@revilla.es   \n",
       "3  15658693            Ale del Portero                gisela65@amores.es   \n",
       "4  15676091      Salvador Ángel Gimeno  maximino64@navarrete-gonzalo.com   \n",
       "\n",
       "        Pais     Genero  Edad  Antigüedad  FacturacionTotal  \\\n",
       "0  Argentina   Femenino    40           7         142856.95   \n",
       "1     Brasil  Masculino    44           1         141136.62   \n",
       "2     Brasil   Femenino    35           8         141665.63   \n",
       "3  Argentina   Femenino    60           2              0.00   \n",
       "4  Argentina  Masculino    42           7              0.00   \n",
       "\n",
       "   PuntuacionCrediticia  CantidadProductos PoseeTarjetaCredito MiembroActivo  \\\n",
       "0                   723                  2                  No            No   \n",
       "1                   661                  1                  Si            No   \n",
       "2                   518                  1                  No            Si   \n",
       "3                   827                  2                  No            Si   \n",
       "4                   543                  1                  Si            Si   \n",
       "\n",
       "   SalarioEstimado VelocidadServicio Abandono  \n",
       "0         38019.74             500Mb       Si  \n",
       "1        189742.78             500Mb       Si  \n",
       "2        192776.64               1GB       No  \n",
       "3         60615.83               1GB       No  \n",
       "4         56650.47             500Mb       Si  "
      ]
     },
     "execution_count": 57,
     "metadata": {},
     "output_type": "execute_result"
    }
   ],
   "source": [
    "df.head()"
   ]
  },
  {
   "cell_type": "code",
   "execution_count": 58,
   "metadata": {},
   "outputs": [
    {
     "name": "stdout",
     "output_type": "stream",
     "text": [
      "<class 'pandas.core.frame.DataFrame'>\n",
      "RangeIndex: 9000 entries, 0 to 8999\n",
      "Data columns (total 15 columns):\n",
      " #   Column                Non-Null Count  Dtype  \n",
      "---  ------                --------------  -----  \n",
      " 0   id                    9000 non-null   int64  \n",
      " 1   Nombre                9000 non-null   object \n",
      " 2   Email                 9000 non-null   object \n",
      " 3   Pais                  9000 non-null   object \n",
      " 4   Genero                9000 non-null   object \n",
      " 5   Edad                  9000 non-null   int64  \n",
      " 6   Antigüedad            9000 non-null   int64  \n",
      " 7   FacturacionTotal      9000 non-null   float64\n",
      " 8   PuntuacionCrediticia  9000 non-null   int64  \n",
      " 9   CantidadProductos     9000 non-null   int64  \n",
      " 10  PoseeTarjetaCredito   9000 non-null   object \n",
      " 11  MiembroActivo         9000 non-null   object \n",
      " 12  SalarioEstimado       9000 non-null   float64\n",
      " 13  VelocidadServicio     9000 non-null   object \n",
      " 14  Abandono              9000 non-null   object \n",
      "dtypes: float64(2), int64(5), object(8)\n",
      "memory usage: 1.0+ MB\n"
     ]
    }
   ],
   "source": [
    "df.info()"
   ]
  },
  {
   "cell_type": "markdown",
   "metadata": {},
   "source": [
    "A primera vista no hay elementos vacios en ninguna de las columnas"
   ]
  },
  {
   "cell_type": "markdown",
   "metadata": {},
   "source": [
    "Vamos a empezar a eliminar las variables que no van a aportar valor alguno al los modelos que vamos a crear"
   ]
  },
  {
   "cell_type": "code",
   "execution_count": 59,
   "metadata": {},
   "outputs": [],
   "source": [
    "df.drop(['id', 'Nombre', 'Email'], inplace=True, axis=1)"
   ]
  },
  {
   "cell_type": "code",
   "execution_count": 60,
   "metadata": {},
   "outputs": [
    {
     "data": {
      "text/html": [
       "<div>\n",
       "<style scoped>\n",
       "    .dataframe tbody tr th:only-of-type {\n",
       "        vertical-align: middle;\n",
       "    }\n",
       "\n",
       "    .dataframe tbody tr th {\n",
       "        vertical-align: top;\n",
       "    }\n",
       "\n",
       "    .dataframe thead th {\n",
       "        text-align: right;\n",
       "    }\n",
       "</style>\n",
       "<table border=\"1\" class=\"dataframe\">\n",
       "  <thead>\n",
       "    <tr style=\"text-align: right;\">\n",
       "      <th></th>\n",
       "      <th>Pais</th>\n",
       "      <th>Genero</th>\n",
       "      <th>Edad</th>\n",
       "      <th>Antigüedad</th>\n",
       "      <th>FacturacionTotal</th>\n",
       "      <th>PuntuacionCrediticia</th>\n",
       "      <th>CantidadProductos</th>\n",
       "      <th>PoseeTarjetaCredito</th>\n",
       "      <th>MiembroActivo</th>\n",
       "      <th>SalarioEstimado</th>\n",
       "      <th>VelocidadServicio</th>\n",
       "      <th>Abandono</th>\n",
       "    </tr>\n",
       "  </thead>\n",
       "  <tbody>\n",
       "    <tr>\n",
       "      <th>0</th>\n",
       "      <td>Argentina</td>\n",
       "      <td>Femenino</td>\n",
       "      <td>40</td>\n",
       "      <td>7</td>\n",
       "      <td>142856.95</td>\n",
       "      <td>723</td>\n",
       "      <td>2</td>\n",
       "      <td>No</td>\n",
       "      <td>No</td>\n",
       "      <td>38019.74</td>\n",
       "      <td>500Mb</td>\n",
       "      <td>Si</td>\n",
       "    </tr>\n",
       "    <tr>\n",
       "      <th>1</th>\n",
       "      <td>Brasil</td>\n",
       "      <td>Masculino</td>\n",
       "      <td>44</td>\n",
       "      <td>1</td>\n",
       "      <td>141136.62</td>\n",
       "      <td>661</td>\n",
       "      <td>1</td>\n",
       "      <td>Si</td>\n",
       "      <td>No</td>\n",
       "      <td>189742.78</td>\n",
       "      <td>500Mb</td>\n",
       "      <td>Si</td>\n",
       "    </tr>\n",
       "    <tr>\n",
       "      <th>2</th>\n",
       "      <td>Brasil</td>\n",
       "      <td>Femenino</td>\n",
       "      <td>35</td>\n",
       "      <td>8</td>\n",
       "      <td>141665.63</td>\n",
       "      <td>518</td>\n",
       "      <td>1</td>\n",
       "      <td>No</td>\n",
       "      <td>Si</td>\n",
       "      <td>192776.64</td>\n",
       "      <td>1GB</td>\n",
       "      <td>No</td>\n",
       "    </tr>\n",
       "    <tr>\n",
       "      <th>3</th>\n",
       "      <td>Argentina</td>\n",
       "      <td>Femenino</td>\n",
       "      <td>60</td>\n",
       "      <td>2</td>\n",
       "      <td>0.00</td>\n",
       "      <td>827</td>\n",
       "      <td>2</td>\n",
       "      <td>No</td>\n",
       "      <td>Si</td>\n",
       "      <td>60615.83</td>\n",
       "      <td>1GB</td>\n",
       "      <td>No</td>\n",
       "    </tr>\n",
       "    <tr>\n",
       "      <th>4</th>\n",
       "      <td>Argentina</td>\n",
       "      <td>Masculino</td>\n",
       "      <td>42</td>\n",
       "      <td>7</td>\n",
       "      <td>0.00</td>\n",
       "      <td>543</td>\n",
       "      <td>1</td>\n",
       "      <td>Si</td>\n",
       "      <td>Si</td>\n",
       "      <td>56650.47</td>\n",
       "      <td>500Mb</td>\n",
       "      <td>Si</td>\n",
       "    </tr>\n",
       "  </tbody>\n",
       "</table>\n",
       "</div>"
      ],
      "text/plain": [
       "        Pais     Genero  Edad  Antigüedad  FacturacionTotal  \\\n",
       "0  Argentina   Femenino    40           7         142856.95   \n",
       "1     Brasil  Masculino    44           1         141136.62   \n",
       "2     Brasil   Femenino    35           8         141665.63   \n",
       "3  Argentina   Femenino    60           2              0.00   \n",
       "4  Argentina  Masculino    42           7              0.00   \n",
       "\n",
       "   PuntuacionCrediticia  CantidadProductos PoseeTarjetaCredito MiembroActivo  \\\n",
       "0                   723                  2                  No            No   \n",
       "1                   661                  1                  Si            No   \n",
       "2                   518                  1                  No            Si   \n",
       "3                   827                  2                  No            Si   \n",
       "4                   543                  1                  Si            Si   \n",
       "\n",
       "   SalarioEstimado VelocidadServicio Abandono  \n",
       "0         38019.74             500Mb       Si  \n",
       "1        189742.78             500Mb       Si  \n",
       "2        192776.64               1GB       No  \n",
       "3         60615.83               1GB       No  \n",
       "4         56650.47             500Mb       Si  "
      ]
     },
     "execution_count": 60,
     "metadata": {},
     "output_type": "execute_result"
    }
   ],
   "source": [
    "df.head()"
   ]
  },
  {
   "cell_type": "markdown",
   "metadata": {},
   "source": [
    "Quedo mucho mas limpio"
   ]
  },
  {
   "cell_type": "markdown",
   "metadata": {},
   "source": [
    "Se va a generar un df de test que lo vamos unicamente usar alfinal cuando se decida que modelo utilizar. Este va a ser nuestra prueba de la vida real a ver como de \"verdad\" nuestro modelo se comporta"
   ]
  },
  {
   "cell_type": "code",
   "execution_count": 61,
   "metadata": {},
   "outputs": [],
   "source": [
    "test_df = df.tail(1000)"
   ]
  },
  {
   "cell_type": "code",
   "execution_count": 62,
   "metadata": {},
   "outputs": [],
   "source": [
    "df.drop(df.tail(1000).index, \n",
    "        inplace = True) "
   ]
  },
  {
   "cell_type": "code",
   "execution_count": 63,
   "metadata": {},
   "outputs": [
    {
     "data": {
      "text/html": [
       "<div>\n",
       "<style scoped>\n",
       "    .dataframe tbody tr th:only-of-type {\n",
       "        vertical-align: middle;\n",
       "    }\n",
       "\n",
       "    .dataframe tbody tr th {\n",
       "        vertical-align: top;\n",
       "    }\n",
       "\n",
       "    .dataframe thead th {\n",
       "        text-align: right;\n",
       "    }\n",
       "</style>\n",
       "<table border=\"1\" class=\"dataframe\">\n",
       "  <thead>\n",
       "    <tr style=\"text-align: right;\">\n",
       "      <th></th>\n",
       "      <th>Pais</th>\n",
       "      <th>Genero</th>\n",
       "      <th>Edad</th>\n",
       "      <th>Antigüedad</th>\n",
       "      <th>FacturacionTotal</th>\n",
       "      <th>PuntuacionCrediticia</th>\n",
       "      <th>CantidadProductos</th>\n",
       "      <th>PoseeTarjetaCredito</th>\n",
       "      <th>MiembroActivo</th>\n",
       "      <th>SalarioEstimado</th>\n",
       "      <th>VelocidadServicio</th>\n",
       "      <th>Abandono</th>\n",
       "    </tr>\n",
       "  </thead>\n",
       "  <tbody>\n",
       "    <tr>\n",
       "      <th>8000</th>\n",
       "      <td>Argentina</td>\n",
       "      <td>Femenino</td>\n",
       "      <td>33</td>\n",
       "      <td>6</td>\n",
       "      <td>0.00</td>\n",
       "      <td>544</td>\n",
       "      <td>2</td>\n",
       "      <td>Si</td>\n",
       "      <td>Si</td>\n",
       "      <td>124113.04</td>\n",
       "      <td>1GB</td>\n",
       "      <td>No</td>\n",
       "    </tr>\n",
       "    <tr>\n",
       "      <th>8001</th>\n",
       "      <td>Argentina</td>\n",
       "      <td>Femenino</td>\n",
       "      <td>30</td>\n",
       "      <td>9</td>\n",
       "      <td>0.00</td>\n",
       "      <td>483</td>\n",
       "      <td>2</td>\n",
       "      <td>No</td>\n",
       "      <td>No</td>\n",
       "      <td>136356.97</td>\n",
       "      <td>500Mb</td>\n",
       "      <td>Si</td>\n",
       "    </tr>\n",
       "    <tr>\n",
       "      <th>8002</th>\n",
       "      <td>Brasil</td>\n",
       "      <td>Femenino</td>\n",
       "      <td>47</td>\n",
       "      <td>5</td>\n",
       "      <td>102085.72</td>\n",
       "      <td>466</td>\n",
       "      <td>1</td>\n",
       "      <td>Si</td>\n",
       "      <td>Si</td>\n",
       "      <td>183536.24</td>\n",
       "      <td>20GB</td>\n",
       "      <td>Si</td>\n",
       "    </tr>\n",
       "    <tr>\n",
       "      <th>8003</th>\n",
       "      <td>Brasil</td>\n",
       "      <td>Masculino</td>\n",
       "      <td>43</td>\n",
       "      <td>0</td>\n",
       "      <td>108508.82</td>\n",
       "      <td>850</td>\n",
       "      <td>3</td>\n",
       "      <td>Si</td>\n",
       "      <td>No</td>\n",
       "      <td>184044.80</td>\n",
       "      <td>2GB</td>\n",
       "      <td>Si</td>\n",
       "    </tr>\n",
       "    <tr>\n",
       "      <th>8004</th>\n",
       "      <td>Argentina</td>\n",
       "      <td>Femenino</td>\n",
       "      <td>31</td>\n",
       "      <td>3</td>\n",
       "      <td>162701.65</td>\n",
       "      <td>841</td>\n",
       "      <td>2</td>\n",
       "      <td>Si</td>\n",
       "      <td>Si</td>\n",
       "      <td>126794.56</td>\n",
       "      <td>1GB</td>\n",
       "      <td>No</td>\n",
       "    </tr>\n",
       "  </tbody>\n",
       "</table>\n",
       "</div>"
      ],
      "text/plain": [
       "           Pais     Genero  Edad  Antigüedad  FacturacionTotal  \\\n",
       "8000  Argentina   Femenino    33           6              0.00   \n",
       "8001  Argentina   Femenino    30           9              0.00   \n",
       "8002     Brasil   Femenino    47           5         102085.72   \n",
       "8003     Brasil  Masculino    43           0         108508.82   \n",
       "8004  Argentina   Femenino    31           3         162701.65   \n",
       "\n",
       "      PuntuacionCrediticia  CantidadProductos PoseeTarjetaCredito  \\\n",
       "8000                   544                  2                  Si   \n",
       "8001                   483                  2                  No   \n",
       "8002                   466                  1                  Si   \n",
       "8003                   850                  3                  Si   \n",
       "8004                   841                  2                  Si   \n",
       "\n",
       "     MiembroActivo  SalarioEstimado VelocidadServicio Abandono  \n",
       "8000            Si        124113.04               1GB       No  \n",
       "8001            No        136356.97             500Mb       Si  \n",
       "8002            Si        183536.24              20GB       Si  \n",
       "8003            No        184044.80               2GB       Si  \n",
       "8004            Si        126794.56               1GB       No  "
      ]
     },
     "execution_count": 63,
     "metadata": {},
     "output_type": "execute_result"
    }
   ],
   "source": [
    "test_df.head()"
   ]
  },
  {
   "cell_type": "code",
   "execution_count": 64,
   "metadata": {},
   "outputs": [
    {
     "data": {
      "text/plain": [
       "(1000, 12)"
      ]
     },
     "execution_count": 64,
     "metadata": {},
     "output_type": "execute_result"
    }
   ],
   "source": [
    "test_df.shape"
   ]
  },
  {
   "cell_type": "code",
   "execution_count": 65,
   "metadata": {},
   "outputs": [],
   "source": [
    "df.to_csv('train_churnes.csv')\n",
    "test_df.to_csv('test_churnes.csv')"
   ]
  },
  {
   "cell_type": "markdown",
   "metadata": {},
   "source": [
    "Generamos dos csv files uno con los datos de entrenamiento y validacion. Otro con los datos de test"
   ]
  },
  {
   "cell_type": "code",
   "execution_count": 312,
   "metadata": {},
   "outputs": [],
   "source": [
    "df = pd.read_csv('train_churnes.csv')"
   ]
  },
  {
   "cell_type": "markdown",
   "metadata": {},
   "source": [
    "Vamos a separar las variables categoricas de las numericas"
   ]
  },
  {
   "cell_type": "code",
   "execution_count": 313,
   "metadata": {},
   "outputs": [
    {
     "data": {
      "text/plain": [
       "(8000, 6)"
      ]
     },
     "execution_count": 313,
     "metadata": {},
     "output_type": "execute_result"
    }
   ],
   "source": [
    "var_num = df[['Edad', \n",
    "              'Antigüedad', \n",
    "              'PuntuacionCrediticia', \n",
    "              'FacturacionTotal', \n",
    "              'CantidadProductos', \n",
    "              'SalarioEstimado']]\n",
    "var_num.shape"
   ]
  },
  {
   "cell_type": "code",
   "execution_count": 314,
   "metadata": {},
   "outputs": [
    {
     "data": {
      "text/plain": [
       "(8000, 5)"
      ]
     },
     "execution_count": 314,
     "metadata": {},
     "output_type": "execute_result"
    }
   ],
   "source": [
    "var_cat = df[['Genero', 'Pais', 'Pais', 'MiembroActivo', 'VelocidadServicio']]\n",
    "var_cat.shape"
   ]
  },
  {
   "cell_type": "markdown",
   "metadata": {},
   "source": [
    "Vamos a transformar dependiendo si son categoricos o numericos."
   ]
  },
  {
   "cell_type": "code",
   "execution_count": 315,
   "metadata": {},
   "outputs": [],
   "source": [
    "from sklearn.preprocessing import RobustScaler\n",
    "from sklearn.preprocessing import OneHotEncoder"
   ]
  },
  {
   "cell_type": "code",
   "execution_count": 316,
   "metadata": {},
   "outputs": [],
   "source": [
    "one_hot = OneHotEncoder()\n",
    "scaler = RobustScaler()"
   ]
  },
  {
   "cell_type": "code",
   "execution_count": 317,
   "metadata": {},
   "outputs": [],
   "source": [
    "var_cat_oh = one_hot.fit_transform(var_cat)"
   ]
  },
  {
   "cell_type": "code",
   "execution_count": 318,
   "metadata": {},
   "outputs": [
    {
     "data": {
      "text/plain": [
       "(8000, 15)"
      ]
     },
     "execution_count": 318,
     "metadata": {},
     "output_type": "execute_result"
    }
   ],
   "source": [
    "var_cat_oh.shape"
   ]
  },
  {
   "cell_type": "code",
   "execution_count": 319,
   "metadata": {},
   "outputs": [],
   "source": [
    "var_num_sc = scaler.fit_transform(var_num)"
   ]
  },
  {
   "cell_type": "code",
   "execution_count": 320,
   "metadata": {},
   "outputs": [],
   "source": [
    "df_cat = pd.DataFrame(var_cat_oh.toarray())\n",
    "df_num = pd.DataFrame(var_num_sc)"
   ]
  },
  {
   "cell_type": "code",
   "execution_count": 323,
   "metadata": {},
   "outputs": [],
   "source": [
    "df_cleaned = pd.concat([df_cat, df_num], axis=1)"
   ]
  },
  {
   "cell_type": "code",
   "execution_count": 324,
   "metadata": {},
   "outputs": [
    {
     "data": {
      "text/plain": [
       "(8000, 21)"
      ]
     },
     "execution_count": 324,
     "metadata": {},
     "output_type": "execute_result"
    }
   ],
   "source": [
    "df_cleaned.shape"
   ]
  },
  {
   "cell_type": "code",
   "execution_count": 325,
   "metadata": {},
   "outputs": [
    {
     "data": {
      "text/html": [
       "<div>\n",
       "<style scoped>\n",
       "    .dataframe tbody tr th:only-of-type {\n",
       "        vertical-align: middle;\n",
       "    }\n",
       "\n",
       "    .dataframe tbody tr th {\n",
       "        vertical-align: top;\n",
       "    }\n",
       "\n",
       "    .dataframe thead th {\n",
       "        text-align: right;\n",
       "    }\n",
       "</style>\n",
       "<table border=\"1\" class=\"dataframe\">\n",
       "  <thead>\n",
       "    <tr style=\"text-align: right;\">\n",
       "      <th></th>\n",
       "      <th>0</th>\n",
       "      <th>1</th>\n",
       "      <th>2</th>\n",
       "      <th>3</th>\n",
       "      <th>4</th>\n",
       "      <th>5</th>\n",
       "      <th>6</th>\n",
       "      <th>7</th>\n",
       "      <th>8</th>\n",
       "      <th>9</th>\n",
       "      <th>...</th>\n",
       "      <th>11</th>\n",
       "      <th>12</th>\n",
       "      <th>13</th>\n",
       "      <th>14</th>\n",
       "      <th>0</th>\n",
       "      <th>1</th>\n",
       "      <th>2</th>\n",
       "      <th>3</th>\n",
       "      <th>4</th>\n",
       "      <th>5</th>\n",
       "    </tr>\n",
       "  </thead>\n",
       "  <tbody>\n",
       "    <tr>\n",
       "      <th>0</th>\n",
       "      <td>1.0</td>\n",
       "      <td>0.0</td>\n",
       "      <td>1.0</td>\n",
       "      <td>0.0</td>\n",
       "      <td>0.0</td>\n",
       "      <td>1.0</td>\n",
       "      <td>0.0</td>\n",
       "      <td>0.0</td>\n",
       "      <td>1.0</td>\n",
       "      <td>0.0</td>\n",
       "      <td>...</td>\n",
       "      <td>0.0</td>\n",
       "      <td>0.0</td>\n",
       "      <td>0.0</td>\n",
       "      <td>1.0</td>\n",
       "      <td>0.250000</td>\n",
       "      <td>0.4</td>\n",
       "      <td>0.529851</td>\n",
       "      <td>0.359684</td>\n",
       "      <td>1.0</td>\n",
       "      <td>-0.631597</td>\n",
       "    </tr>\n",
       "    <tr>\n",
       "      <th>1</th>\n",
       "      <td>0.0</td>\n",
       "      <td>1.0</td>\n",
       "      <td>0.0</td>\n",
       "      <td>1.0</td>\n",
       "      <td>0.0</td>\n",
       "      <td>0.0</td>\n",
       "      <td>1.0</td>\n",
       "      <td>0.0</td>\n",
       "      <td>1.0</td>\n",
       "      <td>0.0</td>\n",
       "      <td>...</td>\n",
       "      <td>0.0</td>\n",
       "      <td>0.0</td>\n",
       "      <td>0.0</td>\n",
       "      <td>1.0</td>\n",
       "      <td>0.583333</td>\n",
       "      <td>-0.8</td>\n",
       "      <td>0.067164</td>\n",
       "      <td>0.346206</td>\n",
       "      <td>0.0</td>\n",
       "      <td>0.907798</td>\n",
       "    </tr>\n",
       "    <tr>\n",
       "      <th>2</th>\n",
       "      <td>1.0</td>\n",
       "      <td>0.0</td>\n",
       "      <td>0.0</td>\n",
       "      <td>1.0</td>\n",
       "      <td>0.0</td>\n",
       "      <td>0.0</td>\n",
       "      <td>1.0</td>\n",
       "      <td>0.0</td>\n",
       "      <td>0.0</td>\n",
       "      <td>1.0</td>\n",
       "      <td>...</td>\n",
       "      <td>1.0</td>\n",
       "      <td>0.0</td>\n",
       "      <td>0.0</td>\n",
       "      <td>0.0</td>\n",
       "      <td>-0.166667</td>\n",
       "      <td>0.6</td>\n",
       "      <td>-1.000000</td>\n",
       "      <td>0.350350</td>\n",
       "      <td>0.0</td>\n",
       "      <td>0.938579</td>\n",
       "    </tr>\n",
       "    <tr>\n",
       "      <th>3</th>\n",
       "      <td>1.0</td>\n",
       "      <td>0.0</td>\n",
       "      <td>1.0</td>\n",
       "      <td>0.0</td>\n",
       "      <td>0.0</td>\n",
       "      <td>1.0</td>\n",
       "      <td>0.0</td>\n",
       "      <td>0.0</td>\n",
       "      <td>0.0</td>\n",
       "      <td>1.0</td>\n",
       "      <td>...</td>\n",
       "      <td>1.0</td>\n",
       "      <td>0.0</td>\n",
       "      <td>0.0</td>\n",
       "      <td>0.0</td>\n",
       "      <td>1.916667</td>\n",
       "      <td>-0.6</td>\n",
       "      <td>1.305970</td>\n",
       "      <td>-0.759583</td>\n",
       "      <td>1.0</td>\n",
       "      <td>-0.402335</td>\n",
       "    </tr>\n",
       "    <tr>\n",
       "      <th>4</th>\n",
       "      <td>0.0</td>\n",
       "      <td>1.0</td>\n",
       "      <td>1.0</td>\n",
       "      <td>0.0</td>\n",
       "      <td>0.0</td>\n",
       "      <td>1.0</td>\n",
       "      <td>0.0</td>\n",
       "      <td>0.0</td>\n",
       "      <td>0.0</td>\n",
       "      <td>1.0</td>\n",
       "      <td>...</td>\n",
       "      <td>0.0</td>\n",
       "      <td>0.0</td>\n",
       "      <td>0.0</td>\n",
       "      <td>1.0</td>\n",
       "      <td>0.416667</td>\n",
       "      <td>0.4</td>\n",
       "      <td>-0.813433</td>\n",
       "      <td>-0.759583</td>\n",
       "      <td>0.0</td>\n",
       "      <td>-0.442568</td>\n",
       "    </tr>\n",
       "  </tbody>\n",
       "</table>\n",
       "<p>5 rows × 21 columns</p>\n",
       "</div>"
      ],
      "text/plain": [
       "    0    1    2    3    4    5    6    7    8    9   ...   11   12   13   14  \\\n",
       "0  1.0  0.0  1.0  0.0  0.0  1.0  0.0  0.0  1.0  0.0  ...  0.0  0.0  0.0  1.0   \n",
       "1  0.0  1.0  0.0  1.0  0.0  0.0  1.0  0.0  1.0  0.0  ...  0.0  0.0  0.0  1.0   \n",
       "2  1.0  0.0  0.0  1.0  0.0  0.0  1.0  0.0  0.0  1.0  ...  1.0  0.0  0.0  0.0   \n",
       "3  1.0  0.0  1.0  0.0  0.0  1.0  0.0  0.0  0.0  1.0  ...  1.0  0.0  0.0  0.0   \n",
       "4  0.0  1.0  1.0  0.0  0.0  1.0  0.0  0.0  0.0  1.0  ...  0.0  0.0  0.0  1.0   \n",
       "\n",
       "         0    1         2         3    4         5   \n",
       "0  0.250000  0.4  0.529851  0.359684  1.0 -0.631597  \n",
       "1  0.583333 -0.8  0.067164  0.346206  0.0  0.907798  \n",
       "2 -0.166667  0.6 -1.000000  0.350350  0.0  0.938579  \n",
       "3  1.916667 -0.6  1.305970 -0.759583  1.0 -0.402335  \n",
       "4  0.416667  0.4 -0.813433 -0.759583  0.0 -0.442568  \n",
       "\n",
       "[5 rows x 21 columns]"
      ]
     },
     "execution_count": 325,
     "metadata": {},
     "output_type": "execute_result"
    }
   ],
   "source": [
    "df_cleaned.head()"
   ]
  },
  {
   "cell_type": "markdown",
   "metadata": {},
   "source": [
    "Vamos a agarrar todas las variables X y tambien vamos a buscar las labels."
   ]
  },
  {
   "cell_type": "code",
   "execution_count": 84,
   "metadata": {},
   "outputs": [],
   "source": [
    "X = df_cleand"
   ]
  },
  {
   "cell_type": "code",
   "execution_count": 79,
   "metadata": {},
   "outputs": [],
   "source": [
    "y = df.Abandono.values"
   ]
  },
  {
   "cell_type": "code",
   "execution_count": 80,
   "metadata": {},
   "outputs": [],
   "source": [
    "from sklearn.preprocessing import LabelBinarizer"
   ]
  },
  {
   "cell_type": "markdown",
   "metadata": {},
   "source": [
    "Vamos a utlizar el labelBinarizer para transformar las labels en numericas para poder pasarselas a nuestro modelo."
   ]
  },
  {
   "cell_type": "code",
   "execution_count": 82,
   "metadata": {},
   "outputs": [],
   "source": [
    "lb = LabelBinarizer()"
   ]
  },
  {
   "cell_type": "code",
   "execution_count": 83,
   "metadata": {},
   "outputs": [],
   "source": [
    "y_lb = lb.fit_transform(y)"
   ]
  },
  {
   "cell_type": "code",
   "execution_count": 327,
   "metadata": {},
   "outputs": [],
   "source": [
    "from sklearn.model_selection import train_test_split"
   ]
  },
  {
   "cell_type": "markdown",
   "metadata": {},
   "source": [
    "Vamos a dividir los datos y agarrar 20% para la validacion"
   ]
  },
  {
   "cell_type": "code",
   "execution_count": 85,
   "metadata": {},
   "outputs": [],
   "source": [
    "X_train, X_test, y_train, y_test = train_test_split(X, y_lb, test_size=0.2, random_state=42)"
   ]
  },
  {
   "cell_type": "code",
   "execution_count": 144,
   "metadata": {},
   "outputs": [],
   "source": [
    "from sklearn.ensemble import RandomForestClassifier\n",
    "from sklearn.metrics import accuracy_score"
   ]
  },
  {
   "cell_type": "markdown",
   "metadata": {},
   "source": [
    "Como primer modelo vamos a utilizar RandomForestClassifier ya que es un problema de classificacion. Es un algoritmo que combina muchos decision trees y genera una probabilidad por cada uno. El que mas diga que corresponde a cierta clase va a quedar esa clase como valor predicho. Suele ser muy utilizado y es muy buena para no generar overfit."
   ]
  },
  {
   "cell_type": "code",
   "execution_count": 175,
   "metadata": {},
   "outputs": [],
   "source": [
    "from sklearn.model_selection import RandomizedSearchCV\n",
    "\n",
    "n_estimators = [int(x) for x in np.linspace(start = 200, stop = 2000, num = 10)]\n",
    "max_features = ['auto', 'sqrt']\n",
    "max_depth = [int(x) for x in np.linspace(10, 110, num = 11)]\n",
    "max_depth.append(None)\n",
    "min_samples_split = [2, 5, 10]\n",
    "min_samples_leaf = [1, 2, 4]\n",
    "bootstrap = [True, False]\n",
    "\n",
    "random_grid = {'n_estimators': n_estimators,\n",
    "               'max_features': max_features,\n",
    "               'max_depth': max_depth,\n",
    "               'min_samples_split': min_samples_split,\n",
    "               'min_samples_leaf': min_samples_leaf,\n",
    "               'bootstrap': bootstrap}\n",
    "\n",
    "rf = RandomForestClassifier()\n",
    "rf_random = RandomizedSearchCV(estimator = rf, param_distributions = random_grid, \n",
    "                               n_iter = 100, cv = 3, \n",
    "                               verbose=0, random_state=42, n_jobs = -1)"
   ]
  },
  {
   "cell_type": "markdown",
   "metadata": {},
   "source": [
    "Me puse a jugar un poco con los hyperparametros y utilizaremos un RandomizedSearch Cross validation. Esto va a combinar de forma random los hyperparametros y nos va a devolver el mejor set de esas conbinaciones. Vamos a utilizar cross validation para evitar generar overfit y asegurarnos de que el modelo no se aprenda los datos de training de memoria. "
   ]
  },
  {
   "cell_type": "code",
   "execution_count": 330,
   "metadata": {},
   "outputs": [
    {
     "data": {
      "text/plain": [
       "RandomForestClassifier(max_depth=60, max_features='sqrt', min_samples_leaf=2,\n",
       "                       min_samples_split=10, n_estimators=600)"
      ]
     },
     "execution_count": 330,
     "metadata": {},
     "output_type": "execute_result"
    }
   ],
   "source": [
    "rf_random.best_estimator_"
   ]
  },
  {
   "cell_type": "markdown",
   "metadata": {},
   "source": [
    "Vamos a hacer un fit de los datos de prueba ya que se encontro gracias al random search los mejores hyperparameters para este random forest"
   ]
  },
  {
   "cell_type": "code",
   "execution_count": 176,
   "metadata": {},
   "outputs": [
    {
     "name": "stderr",
     "output_type": "stream",
     "text": [
      "/home/juancruzalric/.pyenv/versions/3.7.9/envs/ai_tp/lib/python3.7/site-packages/sklearn/model_selection/_search.py:765: DataConversionWarning: A column-vector y was passed when a 1d array was expected. Please change the shape of y to (n_samples,), for example using ravel().\n",
      "  self.best_estimator_.fit(X, y, **fit_params)\n"
     ]
    }
   ],
   "source": [
    "rf_random.fit(X_train, y_train)\n",
    "\n",
    "y_pred = rf_random.predict(X_test)"
   ]
  },
  {
   "cell_type": "code",
   "execution_count": 177,
   "metadata": {},
   "outputs": [
    {
     "data": {
      "text/plain": [
       "0.890625"
      ]
     },
     "execution_count": 177,
     "metadata": {},
     "output_type": "execute_result"
    }
   ],
   "source": [
    "accuracy_score(y_pred, y_test)"
   ]
  },
  {
   "cell_type": "markdown",
   "metadata": {},
   "source": [
    "Vamos a predecir con los datos de validacion y encontraremos una accuracy de 89%.\n",
    "Pero creo que por ahi lo podemos mejorar."
   ]
  },
  {
   "cell_type": "code",
   "execution_count": 178,
   "metadata": {},
   "outputs": [],
   "source": [
    "from sklearn.model_selection import GridSearchCV"
   ]
  },
  {
   "cell_type": "markdown",
   "metadata": {},
   "source": [
    "Vamos a utilizar GridSearch para tantear un poco mas los hyperparameters ya que sabemos cuales eligio el random search ahora podemos hilar un poco mas fino pero manejando un poco mas manualmente los cambios"
   ]
  },
  {
   "cell_type": "code",
   "execution_count": 179,
   "metadata": {},
   "outputs": [],
   "source": [
    "param_grid = {\n",
    "    'n_estimators': [1100, 1250, 1200, 1250, 1300],\n",
    "    'min_samples_split': [3, 4, 5, 6, 7],\n",
    "    'min_samples_leaf': [1, 2, 3, 4, 5],\n",
    "    'max_features': ['sqrt'],\n",
    "    'max_depth': [6, 8, 10, 12, 14, 16, 18],\n",
    "    'bootstrap': [False]}"
   ]
  },
  {
   "cell_type": "code",
   "execution_count": 180,
   "metadata": {},
   "outputs": [],
   "source": [
    "rf_grid_sch = RandomForestClassifier()"
   ]
  },
  {
   "cell_type": "code",
   "execution_count": 181,
   "metadata": {},
   "outputs": [],
   "source": [
    "grid_search = GridSearchCV(\n",
    "    estimator = rf_grid_sch, \n",
    "    param_grid = param_grid, \n",
    "    cv = 3, \n",
    "    n_jobs = -1, \n",
    "    verbose = 2)"
   ]
  },
  {
   "cell_type": "markdown",
   "metadata": {},
   "source": [
    "Vamos a aplicar este nuevo grid search a ver como mejora la accuracy del modelo"
   ]
  },
  {
   "cell_type": "code",
   "execution_count": 331,
   "metadata": {},
   "outputs": [
    {
     "data": {
      "text/plain": [
       "RandomForestClassifier(bootstrap=False, max_depth=10, max_features='sqrt',\n",
       "                       min_samples_leaf=4, min_samples_split=7,\n",
       "                       n_estimators=1200)"
      ]
     },
     "execution_count": 331,
     "metadata": {},
     "output_type": "execute_result"
    }
   ],
   "source": [
    "grid_search.best_estimator_"
   ]
  },
  {
   "cell_type": "markdown",
   "metadata": {},
   "source": [
    "Se cambiaron un poco los hyperparametros vamos a ver que pasa cuando hacemos fit y predecimos con los datos de validacion"
   ]
  },
  {
   "cell_type": "code",
   "execution_count": 182,
   "metadata": {},
   "outputs": [
    {
     "name": "stdout",
     "output_type": "stream",
     "text": [
      "Fitting 3 folds for each of 875 candidates, totalling 2625 fits\n"
     ]
    },
    {
     "name": "stderr",
     "output_type": "stream",
     "text": [
      "[Parallel(n_jobs=-1)]: Using backend LokyBackend with 4 concurrent workers.\n",
      "[Parallel(n_jobs=-1)]: Done  33 tasks      | elapsed:  1.4min\n",
      "[Parallel(n_jobs=-1)]: Done 154 tasks      | elapsed:  5.7min\n",
      "[Parallel(n_jobs=-1)]: Done 357 tasks      | elapsed: 12.5min\n",
      "[Parallel(n_jobs=-1)]: Done 640 tasks      | elapsed: 23.5min\n",
      "[Parallel(n_jobs=-1)]: Done 1005 tasks      | elapsed: 38.9min\n",
      "[Parallel(n_jobs=-1)]: Done 1450 tasks      | elapsed: 59.6min\n",
      "[Parallel(n_jobs=-1)]: Done 1977 tasks      | elapsed: 85.9min\n",
      "[Parallel(n_jobs=-1)]: Done 2584 tasks      | elapsed: 116.2min\n",
      "[Parallel(n_jobs=-1)]: Done 2625 out of 2625 | elapsed: 118.2min finished\n",
      "/home/juancruzalric/.pyenv/versions/3.7.9/envs/ai_tp/lib/python3.7/site-packages/sklearn/model_selection/_search.py:765: DataConversionWarning: A column-vector y was passed when a 1d array was expected. Please change the shape of y to (n_samples,), for example using ravel().\n",
      "  self.best_estimator_.fit(X, y, **fit_params)\n"
     ]
    },
    {
     "data": {
      "text/plain": [
       "GridSearchCV(cv=3, estimator=RandomForestClassifier(), n_jobs=-1,\n",
       "             param_grid={'bootstrap': [False],\n",
       "                         'max_depth': [6, 8, 10, 12, 14, 16, 18],\n",
       "                         'max_features': ['sqrt'],\n",
       "                         'min_samples_leaf': [1, 2, 3, 4, 5],\n",
       "                         'min_samples_split': [3, 4, 5, 6, 7],\n",
       "                         'n_estimators': [1100, 1250, 1200, 1250, 1300]},\n",
       "             verbose=2)"
      ]
     },
     "execution_count": 182,
     "metadata": {},
     "output_type": "execute_result"
    }
   ],
   "source": [
    "grid_search.fit(X_train, y_train)"
   ]
  },
  {
   "cell_type": "code",
   "execution_count": 332,
   "metadata": {},
   "outputs": [],
   "source": [
    "y_pred_gs = grid_search.predict(X_test)"
   ]
  },
  {
   "cell_type": "code",
   "execution_count": 333,
   "metadata": {},
   "outputs": [
    {
     "data": {
      "text/plain": [
       "0.886875"
      ]
     },
     "execution_count": 333,
     "metadata": {},
     "output_type": "execute_result"
    }
   ],
   "source": [
    "accuracy_score(y_test, y_pred_gs)"
   ]
  },
  {
   "cell_type": "markdown",
   "metadata": {},
   "source": [
    "Lamentablemente no conseguimos ninguna mejora. Eso si estos algoritmos tardan bastante en correr. Ya que se generan CV y se buscan los diferentes hyperparametros."
   ]
  },
  {
   "cell_type": "markdown",
   "metadata": {},
   "source": [
    "## Tensorflow"
   ]
  },
  {
   "cell_type": "markdown",
   "metadata": {},
   "source": [
    "Despues de haber probado con Random forest y aprovechado random search y grid search para poder encontrar los mejores hyperparameters me decidi por incluir una red neuronal. Elegi Tensorflow ya que esta disenada para este tipo de algoritmos. Aunque Scikit-learn tiene NN la verdad que me parecio mejor experimentar con TF. Lo primero que vamos a hacer es importar tensorflow 2.x, luego vamos a crear el modelo y vamos a intentar jugar con los hyperparameters y las diferentes capas que le podamos agregar."
   ]
  },
  {
   "cell_type": "code",
   "execution_count": 151,
   "metadata": {},
   "outputs": [],
   "source": [
    "import tensorflow as tf"
   ]
  },
  {
   "cell_type": "code",
   "execution_count": 224,
   "metadata": {},
   "outputs": [],
   "source": [
    "tf.keras.backend.clear_session()\n",
    "model = tf.keras.models.Sequential([\n",
    "    tf.keras.layers.Dense(32, activation='relu'),\n",
    "    tf.keras.layers.Dropout(0.2),\n",
    "    tf.keras.layers.Dense(64, activation='relu'),\n",
    "    tf.keras.layers.Dense(1, activation='sigmoid')\n",
    "])"
   ]
  },
  {
   "cell_type": "markdown",
   "metadata": {},
   "source": [
    "Vamos a crear una red sensilla con 4 capas. La primera va a ser una Densa de 32 neuronas con 'relu' como funcion de activacion. 'relu' es una funcion de activacion muy economica computacionalmente hablando ya que solamente le va a interesar los valores positivos a la funcion. Luego vamos a aplicarle un dropout del 20% de las weights para complicar un poco mas a la red de que haga overfitting. La segunda capa va a ser una Densa con 64 neuronas y 'relu' como funcion de activacion. La ultima capa va a tener una sigmoid como funcion de activacion que va a dar valores entre 0 y 1."
   ]
  },
  {
   "cell_type": "code",
   "execution_count": 225,
   "metadata": {},
   "outputs": [],
   "source": [
    "lr_schedule = tf.keras.callbacks.LearningRateScheduler(\n",
    "    lambda epoch: 1e-8 * 10 ** (epoch/20)\n",
    ")"
   ]
  },
  {
   "cell_type": "markdown",
   "metadata": {},
   "source": [
    "Vamos a crear un callback para poder iterar entre diferentes lr y esto nos va a sacar el trabajo de tener que hacerlo a mano."
   ]
  },
  {
   "cell_type": "code",
   "execution_count": 226,
   "metadata": {},
   "outputs": [],
   "source": [
    "optimizer = tf.keras.optimizers.SGD(lr=1e-8, momentum=0.9)"
   ]
  },
  {
   "cell_type": "markdown",
   "metadata": {},
   "source": [
    "Vamos a elegir como optimizador SGD (Stocastic Gradient Descent) solamente porque queria jugar un poco con el hyperparameter de momentum. Mas adelante voy a probar Adam a ver si modifica en algo a mi lr"
   ]
  },
  {
   "cell_type": "code",
   "execution_count": 227,
   "metadata": {},
   "outputs": [],
   "source": [
    "model.compile(optimizer=optimizer, loss='BinaryCrossentropy', metrics=['accuracy'])"
   ]
  },
  {
   "cell_type": "markdown",
   "metadata": {},
   "source": [
    "Vamos a compilar el modelo y agregar una loss \"BinaryCrossentropy\" ya que el enunciado es un problema de Clasificacion y generamos la label para que sea 0 o 1. La metrica que vamos a tener en cuenta va a ser la accuracy."
   ]
  },
  {
   "cell_type": "code",
   "execution_count": 228,
   "metadata": {},
   "outputs": [
    {
     "name": "stdout",
     "output_type": "stream",
     "text": [
      "WARNING:tensorflow:Layer dense is casting an input tensor from dtype float64 to the layer's dtype of float32, which is new behavior in TensorFlow 2.  The layer has dtype float32 because its dtype defaults to floatx.\n",
      "\n",
      "If you intended to run this layer in float32, you can safely ignore this warning. If in doubt, this warning is likely only an issue if you are porting a TensorFlow 1.X model to TensorFlow 2.\n",
      "\n",
      "To change all layers to have dtype float64 by default, call `tf.keras.backend.set_floatx('float64')`. To change just this layer, pass dtype='float64' to the layer constructor. If you are the author of this layer, you can disable autocasting by passing autocast=False to the base Layer constructor.\n",
      "\n"
     ]
    }
   ],
   "source": [
    "history = model.fit(\n",
    "    x= X_train,\n",
    "    y= y_train,\n",
    "    epochs=500,\n",
    "    validation_data=(X_test, y_test),\n",
    "    callbacks=[lr_schedule],\n",
    "    verbose=0\n",
    ")"
   ]
  },
  {
   "cell_type": "markdown",
   "metadata": {},
   "source": [
    "Se le va a hacer fit al modelo y pasarle cada uno de sus parametros necesarios para hacer la prediccion. Le vamos a pasar el los datos de entrenamiento de las features y de la target. Va a tener 500 epochs y le vamos a pasar tambien el set de validation para estar un poco mas seguros de que el modelo no este haciendo overfitting o underfitting. Por ultimo le metemos la callback de la learning rate schedule."
   ]
  },
  {
   "cell_type": "code",
   "execution_count": 234,
   "metadata": {},
   "outputs": [
    {
     "data": {
      "text/plain": [
       "(1e-08, 1.0, 0.0, 1.0)"
      ]
     },
     "execution_count": 234,
     "metadata": {},
     "output_type": "execute_result"
    },
    {
     "data": {
      "image/png": "[encoded data removed]",
      "text/plain": [
       "<Figure size 432x288 with 1 Axes>"
      ]
     },
     "metadata": {},
     "output_type": "display_data"
    }
   ],
   "source": [
    "lrs = 1e-8 * (10 ** (np.arange(500)/20))\n",
    "plt.semilogx(lrs, history.history['loss'])\n",
    "plt.axis([1e-8, 1, 0, 1])"
   ]
  },
  {
   "cell_type": "markdown",
   "metadata": {},
   "source": [
    "Aca tenemos el grafico de la LR comparado con la loss. Podemos ver que en 1e-2 el la lr se empieza a estabilizar y no estamos viendo que baje mucho mas... despues de eso ya repunta para arriba. Por esta razon nos quedaremos con esta lr. "
   ]
  },
  {
   "cell_type": "code",
   "execution_count": 294,
   "metadata": {},
   "outputs": [],
   "source": [
    "tf.keras.backend.clear_session()\n",
    "model = tf.keras.models.Sequential([\n",
    "    tf.keras.layers.Dense(32, activation='relu'),\n",
    "    tf.keras.layers.Dropout(0.2),\n",
    "    tf.keras.layers.Dense(64, activation='relu'),\n",
    "    tf.keras.layers.Dense(1, activation='sigmoid')\n",
    "])"
   ]
  },
  {
   "cell_type": "markdown",
   "metadata": {},
   "source": [
    "Volvemos a cargar el modelo"
   ]
  },
  {
   "cell_type": "code",
   "execution_count": 295,
   "metadata": {},
   "outputs": [],
   "source": [
    "optimizer = tf.keras.optimizers.SGD(lr=1e-2, momentum=0.9)"
   ]
  },
  {
   "cell_type": "code",
   "execution_count": 296,
   "metadata": {},
   "outputs": [],
   "source": [
    "model.compile(optimizer=optimizer, loss='BinaryCrossentropy', metrics=['accuracy'])"
   ]
  },
  {
   "cell_type": "code",
   "execution_count": 297,
   "metadata": {
    "scrolled": true
   },
   "outputs": [
    {
     "name": "stdout",
     "output_type": "stream",
     "text": [
      "Epoch 1/20\n",
      "WARNING:tensorflow:Layer dense is casting an input tensor from dtype float64 to the layer's dtype of float32, which is new behavior in TensorFlow 2.  The layer has dtype float32 because its dtype defaults to floatx.\n",
      "\n",
      "If you intended to run this layer in float32, you can safely ignore this warning. If in doubt, this warning is likely only an issue if you are porting a TensorFlow 1.X model to TensorFlow 2.\n",
      "\n",
      "To change all layers to have dtype float64 by default, call `tf.keras.backend.set_floatx('float64')`. To change just this layer, pass dtype='float64' to the layer constructor. If you are the author of this layer, you can disable autocasting by passing autocast=False to the base Layer constructor.\n",
      "\n",
      "200/200 - 1s - loss: 0.5239 - accuracy: 0.7375 - val_loss: 0.3486 - val_accuracy: 0.8581\n",
      "Epoch 2/20\n",
      "200/200 - 0s - loss: 0.3597 - accuracy: 0.8506 - val_loss: 0.3076 - val_accuracy: 0.8675\n",
      "Epoch 3/20\n",
      "200/200 - 0s - loss: 0.3329 - accuracy: 0.8689 - val_loss: 0.3011 - val_accuracy: 0.8737\n",
      "Epoch 4/20\n",
      "200/200 - 0s - loss: 0.3110 - accuracy: 0.8714 - val_loss: 0.2882 - val_accuracy: 0.8806\n",
      "Epoch 5/20\n",
      "200/200 - 0s - loss: 0.3054 - accuracy: 0.8783 - val_loss: 0.2896 - val_accuracy: 0.8806\n",
      "Epoch 6/20\n",
      "200/200 - 0s - loss: 0.2962 - accuracy: 0.8809 - val_loss: 0.2785 - val_accuracy: 0.8856\n",
      "Epoch 7/20\n",
      "200/200 - 0s - loss: 0.2916 - accuracy: 0.8825 - val_loss: 0.2804 - val_accuracy: 0.8863\n",
      "Epoch 8/20\n",
      "200/200 - 0s - loss: 0.2893 - accuracy: 0.8834 - val_loss: 0.2766 - val_accuracy: 0.8844\n",
      "Epoch 9/20\n",
      "200/200 - 0s - loss: 0.2830 - accuracy: 0.8844 - val_loss: 0.2698 - val_accuracy: 0.8825\n",
      "Epoch 10/20\n",
      "200/200 - 0s - loss: 0.2829 - accuracy: 0.8856 - val_loss: 0.2710 - val_accuracy: 0.8825\n",
      "Epoch 11/20\n",
      "200/200 - 0s - loss: 0.2794 - accuracy: 0.8892 - val_loss: 0.2725 - val_accuracy: 0.8863\n",
      "Epoch 12/20\n",
      "200/200 - 0s - loss: 0.2826 - accuracy: 0.8877 - val_loss: 0.2778 - val_accuracy: 0.8869\n",
      "Epoch 13/20\n",
      "200/200 - 0s - loss: 0.2800 - accuracy: 0.8852 - val_loss: 0.2805 - val_accuracy: 0.8838\n",
      "Epoch 14/20\n",
      "200/200 - 0s - loss: 0.2810 - accuracy: 0.8875 - val_loss: 0.2709 - val_accuracy: 0.8856\n",
      "Epoch 15/20\n",
      "200/200 - 0s - loss: 0.2718 - accuracy: 0.8895 - val_loss: 0.2768 - val_accuracy: 0.8894\n",
      "Epoch 16/20\n",
      "200/200 - 0s - loss: 0.2770 - accuracy: 0.8873 - val_loss: 0.2729 - val_accuracy: 0.8863\n",
      "Epoch 17/20\n",
      "200/200 - 0s - loss: 0.2741 - accuracy: 0.8889 - val_loss: 0.2753 - val_accuracy: 0.8881\n",
      "Epoch 18/20\n",
      "200/200 - 0s - loss: 0.2746 - accuracy: 0.8866 - val_loss: 0.2710 - val_accuracy: 0.8863\n",
      "Epoch 19/20\n",
      "200/200 - 0s - loss: 0.2740 - accuracy: 0.8908 - val_loss: 0.2693 - val_accuracy: 0.8875\n",
      "Epoch 20/20\n",
      "200/200 - 0s - loss: 0.2748 - accuracy: 0.8902 - val_loss: 0.2737 - val_accuracy: 0.8856\n"
     ]
    }
   ],
   "source": [
    "history = model.fit(\n",
    "    x=X_train,\n",
    "    y=y_train,\n",
    "    validation_data=(X_test, y_test),\n",
    "    epochs=20,\n",
    "    validation_steps=8,\n",
    "    verbose=2\n",
    ")"
   ]
  },
  {
   "cell_type": "code",
   "execution_count": 298,
   "metadata": {},
   "outputs": [],
   "source": [
    "acc = history.history[\"accuracy\"]\n",
    "val_acc = history.history['val_accuracy']\n",
    "epochs = range(len(acc))"
   ]
  },
  {
   "cell_type": "code",
   "execution_count": 299,
   "metadata": {},
   "outputs": [
    {
     "data": {
      "text/plain": [
       "<Figure size 432x288 with 0 Axes>"
      ]
     },
     "execution_count": 299,
     "metadata": {},
     "output_type": "execute_result"
    },
    {
     "data": {
      "image/png": "[encoded data removed]",
      "text/plain": [
       "<Figure size 432x288 with 1 Axes>"
      ]
     },
     "metadata": {},
     "output_type": "display_data"
    },
    {
     "data": {
      "text/plain": [
       "<Figure size 432x288 with 0 Axes>"
      ]
     },
     "metadata": {},
     "output_type": "display_data"
    }
   ],
   "source": [
    "plt.plot(epochs, acc, label=\"Training data\")\n",
    "plt.plot(epochs, val_acc, label=\"Validation data\")\n",
    "plt.legend(loc=\"lower right\")\n",
    "plt.figure()"
   ]
  },
  {
   "cell_type": "markdown",
   "metadata": {},
   "source": [
    "Podemos ver que con solamente 20 epochs el modelo tiene una acc de 88% y se ve que gracias al dropout el modelo parece que no esta haciendo overfitting"
   ]
  },
  {
   "cell_type": "code",
   "execution_count": 300,
   "metadata": {},
   "outputs": [],
   "source": [
    "loss=history.history['loss']\n",
    "val_loss = history.history['val_loss']"
   ]
  },
  {
   "cell_type": "code",
   "execution_count": 301,
   "metadata": {},
   "outputs": [
    {
     "data": {
      "text/plain": [
       "<Figure size 432x288 with 0 Axes>"
      ]
     },
     "execution_count": 301,
     "metadata": {},
     "output_type": "execute_result"
    },
    {
     "data": {
      "image/png": "[encoded data removed]",
      "text/plain": [
       "<Figure size 432x288 with 1 Axes>"
      ]
     },
     "metadata": {},
     "output_type": "display_data"
    },
    {
     "data": {
      "text/plain": [
       "<Figure size 432x288 with 0 Axes>"
      ]
     },
     "metadata": {},
     "output_type": "display_data"
    }
   ],
   "source": [
    "plt.plot(epochs, loss, label='training loss')\n",
    "plt.plot(epochs, val_loss, label='validation loss')\n",
    "plt.legend(loc=\"upper right\")\n",
    "plt.figure()"
   ]
  },
  {
   "cell_type": "markdown",
   "metadata": {},
   "source": [
    "En el grafico de la loss podemos que que ambas estan bajando y no parecen tener demaciados cambios abruptos."
   ]
  },
  {
   "cell_type": "markdown",
   "metadata": {},
   "source": [
    "Ahora queremos probar que pasa cuando le damos mas epochs a ver si el modelo sigue mejorando o empieza a hacer overfiting"
   ]
  },
  {
   "cell_type": "code",
   "execution_count": 303,
   "metadata": {},
   "outputs": [
    {
     "name": "stdout",
     "output_type": "stream",
     "text": [
      "Epoch 1/100\n",
      "WARNING:tensorflow:Layer dense is casting an input tensor from dtype float64 to the layer's dtype of float32, which is new behavior in TensorFlow 2.  The layer has dtype float32 because its dtype defaults to floatx.\n",
      "\n",
      "If you intended to run this layer in float32, you can safely ignore this warning. If in doubt, this warning is likely only an issue if you are porting a TensorFlow 1.X model to TensorFlow 2.\n",
      "\n",
      "To change all layers to have dtype float64 by default, call `tf.keras.backend.set_floatx('float64')`. To change just this layer, pass dtype='float64' to the layer constructor. If you are the author of this layer, you can disable autocasting by passing autocast=False to the base Layer constructor.\n",
      "\n",
      "200/200 - 0s - loss: 0.5349 - accuracy: 0.7333 - val_loss: 0.3669 - val_accuracy: 0.8562\n",
      "Epoch 2/100\n",
      "200/200 - 0s - loss: 0.3647 - accuracy: 0.8453 - val_loss: 0.3223 - val_accuracy: 0.8600\n",
      "Epoch 3/100\n",
      "200/200 - 0s - loss: 0.3302 - accuracy: 0.8661 - val_loss: 0.3010 - val_accuracy: 0.8806\n",
      "Epoch 4/100\n",
      "200/200 - 0s - loss: 0.3100 - accuracy: 0.8753 - val_loss: 0.2849 - val_accuracy: 0.8856\n",
      "Epoch 5/100\n",
      "200/200 - 0s - loss: 0.3025 - accuracy: 0.8764 - val_loss: 0.2833 - val_accuracy: 0.8869\n",
      "Epoch 6/100\n",
      "200/200 - 0s - loss: 0.2949 - accuracy: 0.8781 - val_loss: 0.2816 - val_accuracy: 0.8844\n",
      "Epoch 7/100\n",
      "200/200 - 0s - loss: 0.2923 - accuracy: 0.8792 - val_loss: 0.2730 - val_accuracy: 0.8863\n",
      "Epoch 8/100\n",
      "200/200 - 0s - loss: 0.2920 - accuracy: 0.8825 - val_loss: 0.2710 - val_accuracy: 0.8794\n",
      "Epoch 9/100\n",
      "200/200 - 0s - loss: 0.2861 - accuracy: 0.8819 - val_loss: 0.2748 - val_accuracy: 0.8838\n",
      "Epoch 10/100\n",
      "200/200 - 0s - loss: 0.2841 - accuracy: 0.8844 - val_loss: 0.2734 - val_accuracy: 0.8888\n",
      "Epoch 11/100\n",
      "200/200 - 0s - loss: 0.2800 - accuracy: 0.8859 - val_loss: 0.2704 - val_accuracy: 0.8894\n",
      "Epoch 12/100\n",
      "200/200 - 0s - loss: 0.2821 - accuracy: 0.8811 - val_loss: 0.2723 - val_accuracy: 0.8869\n",
      "Epoch 13/100\n",
      "200/200 - 0s - loss: 0.2816 - accuracy: 0.8886 - val_loss: 0.2727 - val_accuracy: 0.8894\n",
      "Epoch 14/100\n",
      "200/200 - 0s - loss: 0.2770 - accuracy: 0.8872 - val_loss: 0.2709 - val_accuracy: 0.8881\n",
      "Epoch 15/100\n",
      "200/200 - 0s - loss: 0.2745 - accuracy: 0.8878 - val_loss: 0.2683 - val_accuracy: 0.8906\n",
      "Epoch 16/100\n",
      "200/200 - 0s - loss: 0.2759 - accuracy: 0.8859 - val_loss: 0.2710 - val_accuracy: 0.8850\n",
      "Epoch 17/100\n",
      "200/200 - 0s - loss: 0.2755 - accuracy: 0.8867 - val_loss: 0.2703 - val_accuracy: 0.8888\n",
      "Epoch 18/100\n",
      "200/200 - 0s - loss: 0.2704 - accuracy: 0.8909 - val_loss: 0.2676 - val_accuracy: 0.8906\n",
      "Epoch 19/100\n",
      "200/200 - 0s - loss: 0.2725 - accuracy: 0.8888 - val_loss: 0.2707 - val_accuracy: 0.8863\n",
      "Epoch 20/100\n",
      "200/200 - 0s - loss: 0.2743 - accuracy: 0.8898 - val_loss: 0.2709 - val_accuracy: 0.8906\n",
      "Epoch 21/100\n",
      "200/200 - 0s - loss: 0.2716 - accuracy: 0.8873 - val_loss: 0.2684 - val_accuracy: 0.8894\n",
      "Epoch 22/100\n",
      "200/200 - 0s - loss: 0.2696 - accuracy: 0.8892 - val_loss: 0.2671 - val_accuracy: 0.8888\n",
      "Epoch 23/100\n",
      "200/200 - 0s - loss: 0.2675 - accuracy: 0.8911 - val_loss: 0.2659 - val_accuracy: 0.8888\n",
      "Epoch 24/100\n",
      "200/200 - 0s - loss: 0.2707 - accuracy: 0.8884 - val_loss: 0.2705 - val_accuracy: 0.8919\n",
      "Epoch 25/100\n",
      "200/200 - 0s - loss: 0.2715 - accuracy: 0.8881 - val_loss: 0.2708 - val_accuracy: 0.8931\n",
      "Epoch 26/100\n",
      "200/200 - 0s - loss: 0.2658 - accuracy: 0.8920 - val_loss: 0.2751 - val_accuracy: 0.8894\n",
      "Epoch 27/100\n",
      "200/200 - 0s - loss: 0.2733 - accuracy: 0.8894 - val_loss: 0.2711 - val_accuracy: 0.8894\n",
      "Epoch 28/100\n",
      "200/200 - 0s - loss: 0.2655 - accuracy: 0.8927 - val_loss: 0.2776 - val_accuracy: 0.8881\n",
      "Epoch 29/100\n",
      "200/200 - 0s - loss: 0.2666 - accuracy: 0.8895 - val_loss: 0.2757 - val_accuracy: 0.8875\n",
      "Epoch 30/100\n",
      "200/200 - 0s - loss: 0.2701 - accuracy: 0.8894 - val_loss: 0.2730 - val_accuracy: 0.8881\n",
      "Epoch 31/100\n",
      "200/200 - 0s - loss: 0.2649 - accuracy: 0.8945 - val_loss: 0.2744 - val_accuracy: 0.8875\n",
      "Epoch 32/100\n",
      "200/200 - 0s - loss: 0.2636 - accuracy: 0.8919 - val_loss: 0.2758 - val_accuracy: 0.8894\n",
      "Epoch 33/100\n",
      "200/200 - 0s - loss: 0.2649 - accuracy: 0.8908 - val_loss: 0.2759 - val_accuracy: 0.8888\n",
      "Epoch 34/100\n",
      "200/200 - 0s - loss: 0.2611 - accuracy: 0.8930 - val_loss: 0.2713 - val_accuracy: 0.8881\n",
      "Epoch 35/100\n",
      "200/200 - 0s - loss: 0.2647 - accuracy: 0.8939 - val_loss: 0.2712 - val_accuracy: 0.8913\n",
      "Epoch 36/100\n",
      "200/200 - 0s - loss: 0.2597 - accuracy: 0.8933 - val_loss: 0.2731 - val_accuracy: 0.8894\n",
      "Epoch 37/100\n",
      "200/200 - 0s - loss: 0.2647 - accuracy: 0.8936 - val_loss: 0.2701 - val_accuracy: 0.8881\n",
      "Epoch 38/100\n",
      "200/200 - 0s - loss: 0.2633 - accuracy: 0.8934 - val_loss: 0.2754 - val_accuracy: 0.8863\n",
      "Epoch 39/100\n",
      "200/200 - 0s - loss: 0.2671 - accuracy: 0.8922 - val_loss: 0.2773 - val_accuracy: 0.8869\n",
      "Epoch 40/100\n",
      "200/200 - 0s - loss: 0.2615 - accuracy: 0.8941 - val_loss: 0.2734 - val_accuracy: 0.8894\n",
      "Epoch 41/100\n",
      "200/200 - 0s - loss: 0.2590 - accuracy: 0.8955 - val_loss: 0.2734 - val_accuracy: 0.8856\n",
      "Epoch 42/100\n",
      "200/200 - 0s - loss: 0.2608 - accuracy: 0.8919 - val_loss: 0.2846 - val_accuracy: 0.8875\n",
      "Epoch 43/100\n",
      "200/200 - 0s - loss: 0.2633 - accuracy: 0.8916 - val_loss: 0.2731 - val_accuracy: 0.8869\n",
      "Epoch 44/100\n",
      "200/200 - 0s - loss: 0.2571 - accuracy: 0.8955 - val_loss: 0.2739 - val_accuracy: 0.8844\n",
      "Epoch 45/100\n",
      "200/200 - 0s - loss: 0.2648 - accuracy: 0.8905 - val_loss: 0.2747 - val_accuracy: 0.8844\n",
      "Epoch 46/100\n",
      "200/200 - 0s - loss: 0.2608 - accuracy: 0.8950 - val_loss: 0.2733 - val_accuracy: 0.8844\n",
      "Epoch 47/100\n",
      "200/200 - 0s - loss: 0.2627 - accuracy: 0.8928 - val_loss: 0.2762 - val_accuracy: 0.8863\n",
      "Epoch 48/100\n",
      "200/200 - 0s - loss: 0.2588 - accuracy: 0.8931 - val_loss: 0.2756 - val_accuracy: 0.8856\n",
      "Epoch 49/100\n",
      "200/200 - 0s - loss: 0.2585 - accuracy: 0.8945 - val_loss: 0.2759 - val_accuracy: 0.8825\n",
      "Epoch 50/100\n",
      "200/200 - 0s - loss: 0.2648 - accuracy: 0.8914 - val_loss: 0.2774 - val_accuracy: 0.8838\n",
      "Epoch 51/100\n",
      "200/200 - 0s - loss: 0.2589 - accuracy: 0.8925 - val_loss: 0.2771 - val_accuracy: 0.8881\n",
      "Epoch 52/100\n",
      "200/200 - 0s - loss: 0.2597 - accuracy: 0.8933 - val_loss: 0.2783 - val_accuracy: 0.8844\n",
      "Epoch 53/100\n",
      "200/200 - 0s - loss: 0.2604 - accuracy: 0.8939 - val_loss: 0.2778 - val_accuracy: 0.8825\n",
      "Epoch 54/100\n",
      "200/200 - 0s - loss: 0.2574 - accuracy: 0.8941 - val_loss: 0.2743 - val_accuracy: 0.8844\n",
      "Epoch 55/100\n",
      "200/200 - 0s - loss: 0.2584 - accuracy: 0.8953 - val_loss: 0.2812 - val_accuracy: 0.8844\n",
      "Epoch 56/100\n",
      "200/200 - 0s - loss: 0.2559 - accuracy: 0.8972 - val_loss: 0.2794 - val_accuracy: 0.8850\n",
      "Epoch 57/100\n",
      "200/200 - 0s - loss: 0.2589 - accuracy: 0.8939 - val_loss: 0.2799 - val_accuracy: 0.8869\n",
      "Epoch 58/100\n",
      "200/200 - 0s - loss: 0.2561 - accuracy: 0.8953 - val_loss: 0.2817 - val_accuracy: 0.8781\n",
      "Epoch 59/100\n",
      "200/200 - 0s - loss: 0.2563 - accuracy: 0.8939 - val_loss: 0.2812 - val_accuracy: 0.8838\n",
      "Epoch 60/100\n",
      "200/200 - 0s - loss: 0.2539 - accuracy: 0.8958 - val_loss: 0.2851 - val_accuracy: 0.8800\n",
      "Epoch 61/100\n",
      "200/200 - 0s - loss: 0.2595 - accuracy: 0.8920 - val_loss: 0.2861 - val_accuracy: 0.8806\n",
      "Epoch 62/100\n",
      "200/200 - 0s - loss: 0.2581 - accuracy: 0.8945 - val_loss: 0.2795 - val_accuracy: 0.8875\n",
      "Epoch 63/100\n",
      "200/200 - 0s - loss: 0.2546 - accuracy: 0.8973 - val_loss: 0.2775 - val_accuracy: 0.8838\n",
      "Epoch 64/100\n",
      "200/200 - 0s - loss: 0.2526 - accuracy: 0.8972 - val_loss: 0.2793 - val_accuracy: 0.8856\n",
      "Epoch 65/100\n",
      "200/200 - 0s - loss: 0.2553 - accuracy: 0.8955 - val_loss: 0.2831 - val_accuracy: 0.8806\n",
      "Epoch 66/100\n",
      "200/200 - 0s - loss: 0.2547 - accuracy: 0.8973 - val_loss: 0.2819 - val_accuracy: 0.8813\n",
      "Epoch 67/100\n",
      "200/200 - 0s - loss: 0.2549 - accuracy: 0.8966 - val_loss: 0.2793 - val_accuracy: 0.8806\n",
      "Epoch 68/100\n",
      "200/200 - 0s - loss: 0.2526 - accuracy: 0.8961 - val_loss: 0.2814 - val_accuracy: 0.8819\n",
      "Epoch 69/100\n",
      "200/200 - 0s - loss: 0.2543 - accuracy: 0.8931 - val_loss: 0.2808 - val_accuracy: 0.8856\n",
      "Epoch 70/100\n",
      "200/200 - 0s - loss: 0.2539 - accuracy: 0.8947 - val_loss: 0.2820 - val_accuracy: 0.8750\n",
      "Epoch 71/100\n",
      "200/200 - 0s - loss: 0.2539 - accuracy: 0.8956 - val_loss: 0.2852 - val_accuracy: 0.8806\n",
      "Epoch 72/100\n",
      "200/200 - 0s - loss: 0.2536 - accuracy: 0.8963 - val_loss: 0.2817 - val_accuracy: 0.8806\n",
      "Epoch 73/100\n",
      "200/200 - 0s - loss: 0.2504 - accuracy: 0.8980 - val_loss: 0.2796 - val_accuracy: 0.8831\n",
      "Epoch 74/100\n",
      "200/200 - 0s - loss: 0.2525 - accuracy: 0.8958 - val_loss: 0.2800 - val_accuracy: 0.8869\n"
     ]
    },
    {
     "name": "stdout",
     "output_type": "stream",
     "text": [
      "Epoch 75/100\n",
      "200/200 - 0s - loss: 0.2516 - accuracy: 0.8966 - val_loss: 0.2835 - val_accuracy: 0.8844\n",
      "Epoch 76/100\n",
      "200/200 - 0s - loss: 0.2510 - accuracy: 0.8986 - val_loss: 0.2850 - val_accuracy: 0.8831\n",
      "Epoch 77/100\n",
      "200/200 - 0s - loss: 0.2480 - accuracy: 0.8981 - val_loss: 0.2862 - val_accuracy: 0.8788\n",
      "Epoch 78/100\n",
      "200/200 - 0s - loss: 0.2503 - accuracy: 0.8975 - val_loss: 0.2848 - val_accuracy: 0.8806\n",
      "Epoch 79/100\n",
      "200/200 - 0s - loss: 0.2523 - accuracy: 0.8959 - val_loss: 0.2832 - val_accuracy: 0.8838\n",
      "Epoch 80/100\n",
      "200/200 - 0s - loss: 0.2527 - accuracy: 0.8963 - val_loss: 0.2804 - val_accuracy: 0.8813\n",
      "Epoch 81/100\n",
      "200/200 - 0s - loss: 0.2480 - accuracy: 0.9023 - val_loss: 0.2847 - val_accuracy: 0.8819\n",
      "Epoch 82/100\n",
      "200/200 - 0s - loss: 0.2484 - accuracy: 0.8961 - val_loss: 0.2839 - val_accuracy: 0.8850\n",
      "Epoch 83/100\n",
      "200/200 - 0s - loss: 0.2541 - accuracy: 0.8952 - val_loss: 0.2822 - val_accuracy: 0.8819\n",
      "Epoch 84/100\n",
      "200/200 - 0s - loss: 0.2492 - accuracy: 0.8988 - val_loss: 0.2823 - val_accuracy: 0.8850\n",
      "Epoch 85/100\n",
      "200/200 - 0s - loss: 0.2482 - accuracy: 0.9011 - val_loss: 0.2826 - val_accuracy: 0.8763\n",
      "Epoch 86/100\n",
      "200/200 - 0s - loss: 0.2506 - accuracy: 0.8981 - val_loss: 0.2946 - val_accuracy: 0.8800\n",
      "Epoch 87/100\n",
      "200/200 - 0s - loss: 0.2538 - accuracy: 0.8981 - val_loss: 0.2828 - val_accuracy: 0.8856\n",
      "Epoch 88/100\n",
      "200/200 - 0s - loss: 0.2472 - accuracy: 0.9003 - val_loss: 0.2828 - val_accuracy: 0.8838\n",
      "Epoch 89/100\n",
      "200/200 - 0s - loss: 0.2490 - accuracy: 0.8984 - val_loss: 0.2835 - val_accuracy: 0.8838\n",
      "Epoch 90/100\n",
      "200/200 - 0s - loss: 0.2489 - accuracy: 0.8981 - val_loss: 0.2860 - val_accuracy: 0.8819\n",
      "Epoch 91/100\n",
      "200/200 - 0s - loss: 0.2446 - accuracy: 0.9000 - val_loss: 0.2824 - val_accuracy: 0.8794\n",
      "Epoch 92/100\n",
      "200/200 - 0s - loss: 0.2496 - accuracy: 0.8967 - val_loss: 0.2806 - val_accuracy: 0.8838\n",
      "Epoch 93/100\n",
      "200/200 - 0s - loss: 0.2465 - accuracy: 0.8988 - val_loss: 0.2854 - val_accuracy: 0.8769\n",
      "Epoch 94/100\n",
      "200/200 - 0s - loss: 0.2454 - accuracy: 0.9020 - val_loss: 0.2850 - val_accuracy: 0.8794\n",
      "Epoch 95/100\n",
      "200/200 - 0s - loss: 0.2466 - accuracy: 0.8988 - val_loss: 0.2893 - val_accuracy: 0.8825\n",
      "Epoch 96/100\n",
      "200/200 - 0s - loss: 0.2470 - accuracy: 0.8984 - val_loss: 0.2856 - val_accuracy: 0.8850\n",
      "Epoch 97/100\n",
      "200/200 - 0s - loss: 0.2474 - accuracy: 0.8967 - val_loss: 0.2814 - val_accuracy: 0.8850\n",
      "Epoch 98/100\n",
      "200/200 - 0s - loss: 0.2492 - accuracy: 0.8950 - val_loss: 0.2834 - val_accuracy: 0.8819\n",
      "Epoch 99/100\n",
      "200/200 - 0s - loss: 0.2466 - accuracy: 0.8991 - val_loss: 0.2882 - val_accuracy: 0.8825\n",
      "Epoch 100/100\n",
      "200/200 - 0s - loss: 0.2469 - accuracy: 0.9016 - val_loss: 0.2823 - val_accuracy: 0.8844\n"
     ]
    }
   ],
   "source": [
    "tf.keras.backend.clear_session()\n",
    "model = tf.keras.models.Sequential([\n",
    "    tf.keras.layers.Dense(32, activation='relu'),\n",
    "    tf.keras.layers.Dropout(0.2),\n",
    "    tf.keras.layers.Dense(64, activation='relu'),\n",
    "    tf.keras.layers.Dense(1, activation='sigmoid')\n",
    "])\n",
    "\n",
    "optimizer = tf.keras.optimizers.SGD(lr=1e-2, momentum=0.9)\n",
    "\n",
    "model.compile(optimizer=optimizer, loss='BinaryCrossentropy', metrics=['accuracy'])\n",
    "\n",
    "history = model.fit(\n",
    "    x= X_train,\n",
    "    y= y_train,\n",
    "    epochs=100,\n",
    "    validation_data=(X_test, y_test),\n",
    "    validation_steps=20,\n",
    "    verbose=2\n",
    ")"
   ]
  },
  {
   "cell_type": "code",
   "execution_count": 279,
   "metadata": {},
   "outputs": [
    {
     "data": {
      "text/plain": [
       "<Figure size 432x288 with 0 Axes>"
      ]
     },
     "execution_count": 279,
     "metadata": {},
     "output_type": "execute_result"
    },
    {
     "data": {
      "image/png": "[encoded data removed]",
      "text/plain": [
       "<Figure size 432x288 with 1 Axes>"
      ]
     },
     "metadata": {},
     "output_type": "display_data"
    },
    {
     "data": {
      "image/png": "[encoded data removed]",
      "text/plain": [
       "<Figure size 432x288 with 1 Axes>"
      ]
     },
     "metadata": {},
     "output_type": "display_data"
    },
    {
     "data": {
      "text/plain": [
       "<Figure size 432x288 with 0 Axes>"
      ]
     },
     "metadata": {},
     "output_type": "display_data"
    }
   ],
   "source": [
    "acc = history.history[\"accuracy\"]\n",
    "val_acc = history.history['val_accuracy']\n",
    "epochs = range(len(acc))\n",
    "\n",
    "loss=history.history['loss']\n",
    "val_loss = history.history['val_loss']\n",
    "\n",
    "plt.plot(epochs, acc, label=\"Training data\")\n",
    "plt.plot(epochs, val_acc, label=\"Validation data\")\n",
    "plt.legend(loc=\"lower right\")\n",
    "plt.figure()\n",
    "\n",
    "plt.plot(epochs, loss, label='training loss')\n",
    "plt.plot(epochs, val_loss, label='validation loss')\n",
    "plt.legend(loc=\"upper right\")\n",
    "plt.figure()"
   ]
  },
  {
   "cell_type": "markdown",
   "metadata": {},
   "source": [
    "Podemos ver que no beneficia en nada aumentar la cantidad de epochs... la loss y la accuracy del set de validacion empieza a separarse del set de entrenamiento un claro de ejemplo de overfitting."
   ]
  },
  {
   "cell_type": "markdown",
   "metadata": {},
   "source": [
    "Vamos a probar que pasa si le agregamos otra loss y cambiamos a Adam ahora. Queremos ver si esto beneficia al modelo. Vamos a ver que pasa con la LR ahora que tenemos una nueva loss."
   ]
  },
  {
   "cell_type": "code",
   "execution_count": 257,
   "metadata": {},
   "outputs": [
    {
     "name": "stdout",
     "output_type": "stream",
     "text": [
      "WARNING:tensorflow:Layer dense is casting an input tensor from dtype float64 to the layer's dtype of float32, which is new behavior in TensorFlow 2.  The layer has dtype float32 because its dtype defaults to floatx.\n",
      "\n",
      "If you intended to run this layer in float32, you can safely ignore this warning. If in doubt, this warning is likely only an issue if you are porting a TensorFlow 1.X model to TensorFlow 2.\n",
      "\n",
      "To change all layers to have dtype float64 by default, call `tf.keras.backend.set_floatx('float64')`. To change just this layer, pass dtype='float64' to the layer constructor. If you are the author of this layer, you can disable autocasting by passing autocast=False to the base Layer constructor.\n",
      "\n"
     ]
    }
   ],
   "source": [
    "tf.keras.backend.clear_session()\n",
    "model = tf.keras.models.Sequential([\n",
    "    tf.keras.layers.Dense(32, activation='relu'),\n",
    "    tf.keras.layers.Dropout(0.2),\n",
    "    tf.keras.layers.Dense(64, activation='relu'),\n",
    "    tf.keras.layers.Dense(1, activation='sigmoid')\n",
    "])\n",
    "\n",
    "lr_schedule = tf.keras.callbacks.LearningRateScheduler(\n",
    "    lambda epoch: 1e-8 * 10 ** (epoch/20)\n",
    ")\n",
    "\n",
    "optimizer = tf.keras.optimizers.Adam(lr=1e-8)\n",
    "\n",
    "model.compile(optimizer=optimizer, loss='BinaryCrossentropy', metrics=['accuracy'])\n",
    "\n",
    "history = model.fit(\n",
    "    x= X_train,\n",
    "    y= y_train,\n",
    "    epochs=500,\n",
    "    validation_data=(X_test, y_test),\n",
    "    callbacks=[lr_schedule],\n",
    "    verbose=0\n",
    ")"
   ]
  },
  {
   "cell_type": "code",
   "execution_count": 258,
   "metadata": {},
   "outputs": [
    {
     "data": {
      "text/plain": [
       "(1e-08, 1.0, 0.0, 1.0)"
      ]
     },
     "execution_count": 258,
     "metadata": {},
     "output_type": "execute_result"
    },
    {
     "data": {
      "image/png": "[encoded data removed]",
      "text/plain": [
       "<Figure size 432x288 with 1 Axes>"
      ]
     },
     "metadata": {},
     "output_type": "display_data"
    }
   ],
   "source": [
    "lrs = 1e-8 * (10 ** (np.arange(500)/20))\n",
    "plt.semilogx(lrs, history.history['loss'])\n",
    "plt.axis([1e-8, 1, 0, 1])"
   ]
  },
  {
   "cell_type": "markdown",
   "metadata": {},
   "source": [
    "hay un cambio considerado entre SGD y Adam. Adam parece que la mejor lr esta en 1e-3 mientras que en SGD estaba en 1e-2."
   ]
  },
  {
   "cell_type": "code",
   "execution_count": 308,
   "metadata": {},
   "outputs": [
    {
     "name": "stdout",
     "output_type": "stream",
     "text": [
      "Epoch 1/20\n",
      "WARNING:tensorflow:Layer dense is casting an input tensor from dtype float64 to the layer's dtype of float32, which is new behavior in TensorFlow 2.  The layer has dtype float32 because its dtype defaults to floatx.\n",
      "\n",
      "If you intended to run this layer in float32, you can safely ignore this warning. If in doubt, this warning is likely only an issue if you are porting a TensorFlow 1.X model to TensorFlow 2.\n",
      "\n",
      "To change all layers to have dtype float64 by default, call `tf.keras.backend.set_floatx('float64')`. To change just this layer, pass dtype='float64' to the layer constructor. If you are the author of this layer, you can disable autocasting by passing autocast=False to the base Layer constructor.\n",
      "\n",
      "200/200 - 0s - loss: 0.4793 - accuracy: 0.7833 - val_loss: 0.3539 - val_accuracy: 0.8506\n",
      "Epoch 2/20\n",
      "200/200 - 0s - loss: 0.3616 - accuracy: 0.8520 - val_loss: 0.3181 - val_accuracy: 0.8650\n",
      "Epoch 3/20\n",
      "200/200 - 0s - loss: 0.3317 - accuracy: 0.8623 - val_loss: 0.3041 - val_accuracy: 0.8756\n",
      "Epoch 4/20\n",
      "200/200 - 0s - loss: 0.3140 - accuracy: 0.8719 - val_loss: 0.2957 - val_accuracy: 0.8769\n",
      "Epoch 5/20\n",
      "200/200 - 0s - loss: 0.3032 - accuracy: 0.8750 - val_loss: 0.2871 - val_accuracy: 0.8819\n",
      "Epoch 6/20\n",
      "200/200 - 0s - loss: 0.2993 - accuracy: 0.8811 - val_loss: 0.2806 - val_accuracy: 0.8844\n",
      "Epoch 7/20\n",
      "200/200 - 0s - loss: 0.2935 - accuracy: 0.8811 - val_loss: 0.2775 - val_accuracy: 0.8850\n",
      "Epoch 8/20\n",
      "200/200 - 0s - loss: 0.2907 - accuracy: 0.8828 - val_loss: 0.2772 - val_accuracy: 0.8856\n",
      "Epoch 9/20\n",
      "200/200 - 0s - loss: 0.2842 - accuracy: 0.8869 - val_loss: 0.2777 - val_accuracy: 0.8894\n",
      "Epoch 10/20\n",
      "200/200 - 0s - loss: 0.2820 - accuracy: 0.8842 - val_loss: 0.2739 - val_accuracy: 0.8875\n",
      "Epoch 11/20\n",
      "200/200 - 0s - loss: 0.2812 - accuracy: 0.8863 - val_loss: 0.2738 - val_accuracy: 0.8856\n",
      "Epoch 12/20\n",
      "200/200 - 0s - loss: 0.2812 - accuracy: 0.8870 - val_loss: 0.2797 - val_accuracy: 0.8875\n",
      "Epoch 13/20\n",
      "200/200 - 0s - loss: 0.2786 - accuracy: 0.8853 - val_loss: 0.2720 - val_accuracy: 0.8875\n",
      "Epoch 14/20\n",
      "200/200 - 0s - loss: 0.2765 - accuracy: 0.8900 - val_loss: 0.2715 - val_accuracy: 0.8869\n",
      "Epoch 15/20\n",
      "200/200 - 0s - loss: 0.2739 - accuracy: 0.8889 - val_loss: 0.2759 - val_accuracy: 0.8875\n",
      "Epoch 16/20\n",
      "200/200 - 0s - loss: 0.2749 - accuracy: 0.8872 - val_loss: 0.2715 - val_accuracy: 0.8881\n",
      "Epoch 17/20\n",
      "200/200 - 0s - loss: 0.2704 - accuracy: 0.8914 - val_loss: 0.2748 - val_accuracy: 0.8850\n",
      "Epoch 18/20\n",
      "200/200 - 0s - loss: 0.2691 - accuracy: 0.8902 - val_loss: 0.2682 - val_accuracy: 0.8875\n",
      "Epoch 19/20\n",
      "200/200 - 0s - loss: 0.2682 - accuracy: 0.8931 - val_loss: 0.2691 - val_accuracy: 0.8856\n",
      "Epoch 20/20\n",
      "200/200 - 0s - loss: 0.2667 - accuracy: 0.8895 - val_loss: 0.2751 - val_accuracy: 0.8844\n"
     ]
    }
   ],
   "source": [
    "tf.keras.backend.clear_session()\n",
    "model = tf.keras.models.Sequential([\n",
    "    tf.keras.layers.Dense(32, activation='relu'),\n",
    "    tf.keras.layers.Dropout(0.2),\n",
    "    tf.keras.layers.Dense(64, activation='relu'),\n",
    "    tf.keras.layers.Dense(1, activation='sigmoid')\n",
    "])\n",
    "\n",
    "optimizer = tf.keras.optimizers.Adam(lr=1e-3)\n",
    "\n",
    "model.compile(optimizer=optimizer, loss='BinaryCrossentropy', metrics=['accuracy'])\n",
    "\n",
    "history = model.fit(\n",
    "    x= X_train,\n",
    "    y= y_train,\n",
    "    epochs=20,\n",
    "    validation_data=(X_test, y_test),\n",
    "    validation_steps=8,\n",
    "    verbose=2\n",
    ")"
   ]
  },
  {
   "cell_type": "code",
   "execution_count": 309,
   "metadata": {},
   "outputs": [
    {
     "data": {
      "text/plain": [
       "<Figure size 432x288 with 0 Axes>"
      ]
     },
     "execution_count": 309,
     "metadata": {},
     "output_type": "execute_result"
    },
    {
     "data": {
      "image/png": "[encoded data removed]",
      "text/plain": [
       "<Figure size 432x288 with 1 Axes>"
      ]
     },
     "metadata": {},
     "output_type": "display_data"
    },
    {
     "data": {
      "image/png": "[encoded data removed]",
      "text/plain": [
       "<Figure size 432x288 with 1 Axes>"
      ]
     },
     "metadata": {},
     "output_type": "display_data"
    },
    {
     "data": {
      "text/plain": [
       "<Figure size 432x288 with 0 Axes>"
      ]
     },
     "metadata": {},
     "output_type": "display_data"
    }
   ],
   "source": [
    "acc = history.history[\"accuracy\"]\n",
    "val_acc = history.history['val_accuracy']\n",
    "epochs = range(len(acc))\n",
    "\n",
    "loss=history.history['loss']\n",
    "val_loss = history.history['val_loss']\n",
    "\n",
    "plt.plot(epochs, acc, label=\"Training data\")\n",
    "plt.plot(epochs, val_acc, label=\"Validation data\")\n",
    "plt.legend(loc=\"lower right\")\n",
    "plt.figure()\n",
    "\n",
    "plt.plot(epochs, loss, label='training loss')\n",
    "plt.plot(epochs, val_loss, label='validation loss')\n",
    "plt.legend(loc=\"upper right\")\n",
    "plt.figure()"
   ]
  },
  {
   "cell_type": "code",
   "execution_count": 310,
   "metadata": {},
   "outputs": [
    {
     "name": "stdout",
     "output_type": "stream",
     "text": [
      "Epoch 1/100\n",
      "WARNING:tensorflow:Layer dense is casting an input tensor from dtype float64 to the layer's dtype of float32, which is new behavior in TensorFlow 2.  The layer has dtype float32 because its dtype defaults to floatx.\n",
      "\n",
      "If you intended to run this layer in float32, you can safely ignore this warning. If in doubt, this warning is likely only an issue if you are porting a TensorFlow 1.X model to TensorFlow 2.\n",
      "\n",
      "To change all layers to have dtype float64 by default, call `tf.keras.backend.set_floatx('float64')`. To change just this layer, pass dtype='float64' to the layer constructor. If you are the author of this layer, you can disable autocasting by passing autocast=False to the base Layer constructor.\n",
      "\n",
      "200/200 - 0s - loss: 0.5213 - accuracy: 0.7373 - val_loss: 0.3556 - val_accuracy: 0.8500\n",
      "Epoch 2/100\n",
      "200/200 - 1s - loss: 0.3727 - accuracy: 0.8458 - val_loss: 0.3207 - val_accuracy: 0.8581\n",
      "Epoch 3/100\n",
      "200/200 - 1s - loss: 0.3402 - accuracy: 0.8589 - val_loss: 0.3074 - val_accuracy: 0.8719\n",
      "Epoch 4/100\n",
      "200/200 - 0s - loss: 0.3237 - accuracy: 0.8655 - val_loss: 0.2978 - val_accuracy: 0.8769\n",
      "Epoch 5/100\n",
      "200/200 - 0s - loss: 0.3146 - accuracy: 0.8703 - val_loss: 0.2892 - val_accuracy: 0.8838\n",
      "Epoch 6/100\n",
      "200/200 - 0s - loss: 0.3022 - accuracy: 0.8759 - val_loss: 0.2854 - val_accuracy: 0.8825\n",
      "Epoch 7/100\n",
      "200/200 - 1s - loss: 0.2990 - accuracy: 0.8789 - val_loss: 0.2855 - val_accuracy: 0.8838\n",
      "Epoch 8/100\n",
      "200/200 - 0s - loss: 0.2880 - accuracy: 0.8834 - val_loss: 0.2791 - val_accuracy: 0.8863\n",
      "Epoch 9/100\n",
      "200/200 - 0s - loss: 0.2885 - accuracy: 0.8797 - val_loss: 0.2774 - val_accuracy: 0.8838\n",
      "Epoch 10/100\n",
      "200/200 - 0s - loss: 0.2824 - accuracy: 0.8894 - val_loss: 0.2777 - val_accuracy: 0.8888\n",
      "Epoch 11/100\n",
      "200/200 - 0s - loss: 0.2831 - accuracy: 0.8855 - val_loss: 0.2786 - val_accuracy: 0.8838\n",
      "Epoch 12/100\n",
      "200/200 - 0s - loss: 0.2792 - accuracy: 0.8864 - val_loss: 0.2760 - val_accuracy: 0.8869\n",
      "Epoch 13/100\n",
      "200/200 - 0s - loss: 0.2797 - accuracy: 0.8855 - val_loss: 0.2752 - val_accuracy: 0.8863\n",
      "Epoch 14/100\n",
      "200/200 - 0s - loss: 0.2752 - accuracy: 0.8873 - val_loss: 0.2770 - val_accuracy: 0.8844\n",
      "Epoch 15/100\n",
      "200/200 - 0s - loss: 0.2731 - accuracy: 0.8905 - val_loss: 0.2733 - val_accuracy: 0.8881\n",
      "Epoch 16/100\n",
      "200/200 - 0s - loss: 0.2704 - accuracy: 0.8881 - val_loss: 0.2738 - val_accuracy: 0.8825\n",
      "Epoch 17/100\n",
      "200/200 - 1s - loss: 0.2734 - accuracy: 0.8878 - val_loss: 0.2731 - val_accuracy: 0.8831\n",
      "Epoch 18/100\n",
      "200/200 - 1s - loss: 0.2708 - accuracy: 0.8913 - val_loss: 0.2729 - val_accuracy: 0.8869\n",
      "Epoch 19/100\n",
      "200/200 - 0s - loss: 0.2714 - accuracy: 0.8880 - val_loss: 0.2797 - val_accuracy: 0.8863\n",
      "Epoch 20/100\n",
      "200/200 - 0s - loss: 0.2697 - accuracy: 0.8894 - val_loss: 0.2718 - val_accuracy: 0.8863\n",
      "Epoch 21/100\n",
      "200/200 - 0s - loss: 0.2682 - accuracy: 0.8909 - val_loss: 0.2769 - val_accuracy: 0.8869\n",
      "Epoch 22/100\n",
      "200/200 - 0s - loss: 0.2647 - accuracy: 0.8908 - val_loss: 0.2714 - val_accuracy: 0.8856\n",
      "Epoch 23/100\n",
      "200/200 - 0s - loss: 0.2650 - accuracy: 0.8919 - val_loss: 0.2718 - val_accuracy: 0.8844\n",
      "Epoch 24/100\n",
      "200/200 - 0s - loss: 0.2653 - accuracy: 0.8928 - val_loss: 0.2729 - val_accuracy: 0.8875\n",
      "Epoch 25/100\n",
      "200/200 - 0s - loss: 0.2647 - accuracy: 0.8922 - val_loss: 0.2727 - val_accuracy: 0.8869\n",
      "Epoch 26/100\n",
      "200/200 - 0s - loss: 0.2641 - accuracy: 0.8944 - val_loss: 0.2768 - val_accuracy: 0.8856\n",
      "Epoch 27/100\n",
      "200/200 - 0s - loss: 0.2649 - accuracy: 0.8922 - val_loss: 0.2727 - val_accuracy: 0.8863\n",
      "Epoch 28/100\n",
      "200/200 - 0s - loss: 0.2623 - accuracy: 0.8933 - val_loss: 0.2720 - val_accuracy: 0.8881\n",
      "Epoch 29/100\n",
      "200/200 - 0s - loss: 0.2661 - accuracy: 0.8933 - val_loss: 0.2746 - val_accuracy: 0.8831\n",
      "Epoch 30/100\n",
      "200/200 - 0s - loss: 0.2641 - accuracy: 0.8930 - val_loss: 0.2754 - val_accuracy: 0.8875\n",
      "Epoch 31/100\n",
      "200/200 - 0s - loss: 0.2640 - accuracy: 0.8936 - val_loss: 0.2715 - val_accuracy: 0.8856\n",
      "Epoch 32/100\n",
      "200/200 - 0s - loss: 0.2594 - accuracy: 0.8947 - val_loss: 0.2767 - val_accuracy: 0.8888\n",
      "Epoch 33/100\n",
      "200/200 - 0s - loss: 0.2598 - accuracy: 0.8955 - val_loss: 0.2779 - val_accuracy: 0.8888\n",
      "Epoch 34/100\n",
      "200/200 - 0s - loss: 0.2632 - accuracy: 0.8952 - val_loss: 0.2747 - val_accuracy: 0.8888\n",
      "Epoch 35/100\n",
      "200/200 - 0s - loss: 0.2591 - accuracy: 0.8938 - val_loss: 0.2738 - val_accuracy: 0.8850\n",
      "Epoch 36/100\n",
      "200/200 - 0s - loss: 0.2600 - accuracy: 0.8938 - val_loss: 0.2735 - val_accuracy: 0.8894\n",
      "Epoch 37/100\n",
      "200/200 - 0s - loss: 0.2605 - accuracy: 0.8942 - val_loss: 0.2748 - val_accuracy: 0.8888\n",
      "Epoch 38/100\n",
      "200/200 - 0s - loss: 0.2607 - accuracy: 0.8959 - val_loss: 0.2804 - val_accuracy: 0.8881\n",
      "Epoch 39/100\n",
      "200/200 - 0s - loss: 0.2600 - accuracy: 0.8947 - val_loss: 0.2757 - val_accuracy: 0.8856\n",
      "Epoch 40/100\n",
      "200/200 - 0s - loss: 0.2586 - accuracy: 0.8956 - val_loss: 0.2765 - val_accuracy: 0.8888\n",
      "Epoch 41/100\n",
      "200/200 - 0s - loss: 0.2585 - accuracy: 0.8947 - val_loss: 0.2767 - val_accuracy: 0.8875\n",
      "Epoch 42/100\n",
      "200/200 - 0s - loss: 0.2599 - accuracy: 0.8942 - val_loss: 0.2786 - val_accuracy: 0.8838\n",
      "Epoch 43/100\n",
      "200/200 - 0s - loss: 0.2572 - accuracy: 0.8961 - val_loss: 0.2740 - val_accuracy: 0.8888\n",
      "Epoch 44/100\n",
      "200/200 - 0s - loss: 0.2551 - accuracy: 0.8978 - val_loss: 0.2756 - val_accuracy: 0.8888\n",
      "Epoch 45/100\n",
      "200/200 - 0s - loss: 0.2548 - accuracy: 0.8939 - val_loss: 0.2793 - val_accuracy: 0.8863\n",
      "Epoch 46/100\n",
      "200/200 - 0s - loss: 0.2548 - accuracy: 0.8956 - val_loss: 0.2780 - val_accuracy: 0.8850\n",
      "Epoch 47/100\n",
      "200/200 - 0s - loss: 0.2557 - accuracy: 0.8959 - val_loss: 0.2795 - val_accuracy: 0.8856\n",
      "Epoch 48/100\n",
      "200/200 - 0s - loss: 0.2544 - accuracy: 0.8980 - val_loss: 0.2776 - val_accuracy: 0.8869\n",
      "Epoch 49/100\n",
      "200/200 - 0s - loss: 0.2545 - accuracy: 0.8966 - val_loss: 0.2770 - val_accuracy: 0.8869\n",
      "Epoch 50/100\n",
      "200/200 - 0s - loss: 0.2536 - accuracy: 0.8973 - val_loss: 0.2786 - val_accuracy: 0.8875\n",
      "Epoch 51/100\n",
      "200/200 - 0s - loss: 0.2529 - accuracy: 0.8973 - val_loss: 0.2815 - val_accuracy: 0.8863\n",
      "Epoch 52/100\n",
      "200/200 - 0s - loss: 0.2518 - accuracy: 0.8975 - val_loss: 0.2763 - val_accuracy: 0.8881\n",
      "Epoch 53/100\n",
      "200/200 - 0s - loss: 0.2485 - accuracy: 0.8978 - val_loss: 0.2775 - val_accuracy: 0.8844\n",
      "Epoch 54/100\n",
      "200/200 - 0s - loss: 0.2530 - accuracy: 0.8980 - val_loss: 0.2778 - val_accuracy: 0.8838\n",
      "Epoch 55/100\n",
      "200/200 - 0s - loss: 0.2496 - accuracy: 0.8977 - val_loss: 0.2801 - val_accuracy: 0.8856\n",
      "Epoch 56/100\n",
      "200/200 - 0s - loss: 0.2529 - accuracy: 0.8989 - val_loss: 0.2844 - val_accuracy: 0.8875\n",
      "Epoch 57/100\n",
      "200/200 - 0s - loss: 0.2505 - accuracy: 0.8988 - val_loss: 0.2794 - val_accuracy: 0.8881\n",
      "Epoch 58/100\n",
      "200/200 - 0s - loss: 0.2485 - accuracy: 0.8983 - val_loss: 0.2786 - val_accuracy: 0.8913\n",
      "Epoch 59/100\n",
      "200/200 - 0s - loss: 0.2493 - accuracy: 0.8978 - val_loss: 0.2830 - val_accuracy: 0.8888\n",
      "Epoch 60/100\n",
      "200/200 - 0s - loss: 0.2525 - accuracy: 0.8944 - val_loss: 0.2793 - val_accuracy: 0.8869\n",
      "Epoch 61/100\n",
      "200/200 - 0s - loss: 0.2491 - accuracy: 0.8975 - val_loss: 0.2758 - val_accuracy: 0.8913\n",
      "Epoch 62/100\n",
      "200/200 - 0s - loss: 0.2481 - accuracy: 0.8991 - val_loss: 0.2835 - val_accuracy: 0.8850\n",
      "Epoch 63/100\n",
      "200/200 - 0s - loss: 0.2496 - accuracy: 0.9003 - val_loss: 0.2772 - val_accuracy: 0.8888\n",
      "Epoch 64/100\n",
      "200/200 - 0s - loss: 0.2467 - accuracy: 0.8994 - val_loss: 0.2804 - val_accuracy: 0.8863\n",
      "Epoch 65/100\n",
      "200/200 - 0s - loss: 0.2480 - accuracy: 0.8988 - val_loss: 0.2797 - val_accuracy: 0.8875\n",
      "Epoch 66/100\n",
      "200/200 - 0s - loss: 0.2484 - accuracy: 0.8994 - val_loss: 0.2783 - val_accuracy: 0.8913\n",
      "Epoch 67/100\n",
      "200/200 - 0s - loss: 0.2489 - accuracy: 0.8981 - val_loss: 0.2787 - val_accuracy: 0.8863\n",
      "Epoch 68/100\n",
      "200/200 - 0s - loss: 0.2500 - accuracy: 0.8981 - val_loss: 0.2774 - val_accuracy: 0.8919\n",
      "Epoch 69/100\n",
      "200/200 - 0s - loss: 0.2452 - accuracy: 0.9009 - val_loss: 0.2824 - val_accuracy: 0.8913\n",
      "Epoch 70/100\n",
      "200/200 - 0s - loss: 0.2450 - accuracy: 0.8983 - val_loss: 0.2826 - val_accuracy: 0.8863\n",
      "Epoch 71/100\n",
      "200/200 - 0s - loss: 0.2460 - accuracy: 0.8978 - val_loss: 0.2793 - val_accuracy: 0.8863\n",
      "Epoch 72/100\n",
      "200/200 - 0s - loss: 0.2428 - accuracy: 0.9003 - val_loss: 0.2793 - val_accuracy: 0.8881\n",
      "Epoch 73/100\n",
      "200/200 - 0s - loss: 0.2410 - accuracy: 0.9038 - val_loss: 0.2774 - val_accuracy: 0.8906\n",
      "Epoch 74/100\n",
      "200/200 - 0s - loss: 0.2470 - accuracy: 0.8994 - val_loss: 0.2811 - val_accuracy: 0.8900\n"
     ]
    },
    {
     "name": "stdout",
     "output_type": "stream",
     "text": [
      "Epoch 75/100\n",
      "200/200 - 0s - loss: 0.2447 - accuracy: 0.8995 - val_loss: 0.2800 - val_accuracy: 0.8894\n",
      "Epoch 76/100\n",
      "200/200 - 0s - loss: 0.2450 - accuracy: 0.9013 - val_loss: 0.2811 - val_accuracy: 0.8875\n",
      "Epoch 77/100\n",
      "200/200 - 0s - loss: 0.2431 - accuracy: 0.9020 - val_loss: 0.2820 - val_accuracy: 0.8900\n",
      "Epoch 78/100\n",
      "200/200 - 0s - loss: 0.2423 - accuracy: 0.9022 - val_loss: 0.2809 - val_accuracy: 0.8844\n",
      "Epoch 79/100\n",
      "200/200 - 0s - loss: 0.2412 - accuracy: 0.9025 - val_loss: 0.2886 - val_accuracy: 0.8869\n",
      "Epoch 80/100\n",
      "200/200 - 0s - loss: 0.2438 - accuracy: 0.9006 - val_loss: 0.2829 - val_accuracy: 0.8869\n",
      "Epoch 81/100\n",
      "200/200 - 0s - loss: 0.2427 - accuracy: 0.9019 - val_loss: 0.2813 - val_accuracy: 0.8856\n",
      "Epoch 82/100\n",
      "200/200 - 0s - loss: 0.2436 - accuracy: 0.8992 - val_loss: 0.2830 - val_accuracy: 0.8863\n",
      "Epoch 83/100\n",
      "200/200 - 0s - loss: 0.2401 - accuracy: 0.9020 - val_loss: 0.2811 - val_accuracy: 0.8881\n",
      "Epoch 84/100\n",
      "200/200 - 0s - loss: 0.2422 - accuracy: 0.9031 - val_loss: 0.2808 - val_accuracy: 0.8856\n",
      "Epoch 85/100\n",
      "200/200 - 0s - loss: 0.2412 - accuracy: 0.8998 - val_loss: 0.2850 - val_accuracy: 0.8863\n",
      "Epoch 86/100\n",
      "200/200 - 0s - loss: 0.2387 - accuracy: 0.9025 - val_loss: 0.2841 - val_accuracy: 0.8856\n",
      "Epoch 87/100\n",
      "200/200 - 0s - loss: 0.2437 - accuracy: 0.9013 - val_loss: 0.2835 - val_accuracy: 0.8869\n",
      "Epoch 88/100\n",
      "200/200 - 0s - loss: 0.2419 - accuracy: 0.9011 - val_loss: 0.2838 - val_accuracy: 0.8863\n",
      "Epoch 89/100\n",
      "200/200 - 0s - loss: 0.2371 - accuracy: 0.9059 - val_loss: 0.2868 - val_accuracy: 0.8863\n",
      "Epoch 90/100\n",
      "200/200 - 0s - loss: 0.2428 - accuracy: 0.9005 - val_loss: 0.2850 - val_accuracy: 0.8881\n",
      "Epoch 91/100\n",
      "200/200 - 0s - loss: 0.2423 - accuracy: 0.9014 - val_loss: 0.2828 - val_accuracy: 0.8881\n",
      "Epoch 92/100\n",
      "200/200 - 0s - loss: 0.2352 - accuracy: 0.9031 - val_loss: 0.2833 - val_accuracy: 0.8863\n",
      "Epoch 93/100\n",
      "200/200 - 0s - loss: 0.2379 - accuracy: 0.9050 - val_loss: 0.2880 - val_accuracy: 0.8856\n",
      "Epoch 94/100\n",
      "200/200 - 0s - loss: 0.2383 - accuracy: 0.9047 - val_loss: 0.2873 - val_accuracy: 0.8906\n",
      "Epoch 95/100\n",
      "200/200 - 0s - loss: 0.2431 - accuracy: 0.9022 - val_loss: 0.2853 - val_accuracy: 0.8875\n",
      "Epoch 96/100\n",
      "200/200 - 0s - loss: 0.2405 - accuracy: 0.9006 - val_loss: 0.2857 - val_accuracy: 0.8869\n",
      "Epoch 97/100\n",
      "200/200 - 0s - loss: 0.2367 - accuracy: 0.9008 - val_loss: 0.2866 - val_accuracy: 0.8863\n",
      "Epoch 98/100\n",
      "200/200 - 0s - loss: 0.2359 - accuracy: 0.9047 - val_loss: 0.2868 - val_accuracy: 0.8863\n",
      "Epoch 99/100\n",
      "200/200 - 0s - loss: 0.2349 - accuracy: 0.9033 - val_loss: 0.2869 - val_accuracy: 0.8819\n",
      "Epoch 100/100\n",
      "200/200 - 0s - loss: 0.2365 - accuracy: 0.9036 - val_loss: 0.2869 - val_accuracy: 0.8838\n"
     ]
    }
   ],
   "source": [
    "tf.keras.backend.clear_session()\n",
    "model = tf.keras.models.Sequential([\n",
    "    tf.keras.layers.Dense(32, activation='relu'),\n",
    "    tf.keras.layers.Dropout(0.2),\n",
    "    tf.keras.layers.Dense(64, activation='relu'),\n",
    "    tf.keras.layers.Dense(1, activation='sigmoid')\n",
    "])\n",
    "\n",
    "optimizer = tf.keras.optimizers.Adam(lr=1e-3)\n",
    "\n",
    "model.compile(optimizer=optimizer, loss='BinaryCrossentropy', metrics=['accuracy'])\n",
    "\n",
    "history = model.fit(\n",
    "    x= X_train,\n",
    "    y= y_train,\n",
    "    epochs=100,\n",
    "    validation_data=(X_test, y_test),\n",
    "    validation_steps=8,\n",
    "    verbose=2\n",
    ")"
   ]
  },
  {
   "cell_type": "code",
   "execution_count": 311,
   "metadata": {},
   "outputs": [
    {
     "data": {
      "text/plain": [
       "<Figure size 432x288 with 0 Axes>"
      ]
     },
     "execution_count": 311,
     "metadata": {},
     "output_type": "execute_result"
    },
    {
     "data": {
      "image/png": "[encoded data removed]",
      "text/plain": [
       "<Figure size 432x288 with 1 Axes>"
      ]
     },
     "metadata": {},
     "output_type": "display_data"
    },
    {
     "data": {
      "image/png": "[encoded data removed]",
      "text/plain": [
       "<Figure size 432x288 with 1 Axes>"
      ]
     },
     "metadata": {},
     "output_type": "display_data"
    },
    {
     "data": {
      "text/plain": [
       "<Figure size 432x288 with 0 Axes>"
      ]
     },
     "metadata": {},
     "output_type": "display_data"
    }
   ],
   "source": [
    "acc = history.history[\"accuracy\"]\n",
    "val_acc = history.history['val_accuracy']\n",
    "epochs = range(len(acc))\n",
    "\n",
    "loss=history.history['loss']\n",
    "val_loss = history.history['val_loss']\n",
    "\n",
    "plt.plot(epochs, acc, label=\"Training data\")\n",
    "plt.plot(epochs, val_acc, label=\"Validation data\")\n",
    "plt.legend(loc=\"lower right\")\n",
    "plt.figure()\n",
    "\n",
    "plt.plot(epochs, loss, label='training loss')\n",
    "plt.plot(epochs, val_loss, label='validation loss')\n",
    "plt.legend(loc=\"upper right\")\n",
    "plt.figure()"
   ]
  },
  {
   "cell_type": "markdown",
   "metadata": {},
   "source": [
    "Conclusion podemos ver que ambas losses (Adam y SGD) no les benefica en nada tener mas de 20 epochs. Me quedaria con SGD ya que tiende a entrenar un poco mas rapido y genera curvas mas suaves, tiene mejor % en el test de validacion tanto como en el de loss y en el de accuracy."
   ]
  },
  {
   "cell_type": "markdown",
   "metadata": {},
   "source": [
    "Esta funcion se genero para facilitar el limpiado de datos en todo el grupo. Solamente se necesita pasarle el dataframe y solito va a hacer los cambios necesarios y devuelve los datos de entrenamiento y validacion ya separados para meterlos en diferentes modelos y probar la performance."
   ]
  },
  {
   "cell_type": "code",
   "execution_count": 172,
   "metadata": {},
   "outputs": [],
   "source": [
    "def cleaner(dataframe):\n",
    "    var_num = dataframe[['Edad', \n",
    "              'Antigüedad', \n",
    "              'PuntuacionCrediticia', \n",
    "              'FacturacionTotal', \n",
    "              'CantidadProductos', \n",
    "              'SalarioEstimado']]\n",
    "    var_cat = dataframe[[\n",
    "        'Genero', \n",
    "        'Pais', \n",
    "        'Pais', \n",
    "        'MiembroActivo', \n",
    "        'VelocidadServicio']]\n",
    "    y = dataframe['Abandono'].values\n",
    "    one_hot = OneHotEncoder()\n",
    "    scaler = RobustScaler()\n",
    "    lb = LabelBinarizer()\n",
    "    var_cat_oh = one_hot.fit_transform(var_cat)\n",
    "    var_num_sc = scaler.fit_transform(var_num)\n",
    "    df_cat = pd.DataFrame(var_cat_oh.toarray())\n",
    "    df_num = pd.DataFrame(var_num_sc)\n",
    "    X = pd.concat([df_cat, df_num], axis=1)\n",
    "    y_lb = lb.fit_transform(y)\n",
    "    X_train, X_test, y_train, y_test = train_test_split(X, y_lb, test_size=0.2, random_state=42)\n",
    "    return X_train, X_test, y_train, y_test"
   ]
  },
  {
   "cell_type": "code",
   "execution_count": 173,
   "metadata": {},
   "outputs": [],
   "source": [
    "X_train, X_test, y_train, y_test = cleaner(pd.read_csv('train_churnes.csv'))"
   ]
  },
  {
   "cell_type": "code",
   "execution_count": 174,
   "metadata": {},
   "outputs": [
    {
     "data": {
      "text/plain": [
       "(6400, 21)"
      ]
     },
     "execution_count": 174,
     "metadata": {},
     "output_type": "execute_result"
    }
   ],
   "source": [
    "X_train.shape"
   ]
  },
  {
   "cell_type": "code",
   "execution_count": null,
   "metadata": {},
   "outputs": [],
   "source": []
  }
 ],
 "metadata": {
  "kernelspec": {
   "display_name": "Python 3",
   "language": "python",
   "name": "python3"
  },
  "language_info": {
   "codemirror_mode": {
    "name": "ipython",
    "version": 3
   },
   "file_extension": ".py",
   "mimetype": "text/x-python",
   "name": "python",
   "nbconvert_exporter": "python",
   "pygments_lexer": "ipython3",
   "version": "3.7.9"
  }
 },
 "nbformat": 4,
 "nbformat_minor": 4
}
